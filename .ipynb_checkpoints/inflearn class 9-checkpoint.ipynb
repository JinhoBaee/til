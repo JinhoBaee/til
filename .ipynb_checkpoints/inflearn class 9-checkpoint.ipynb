{
 "cells": [
  {
   "cell_type": "code",
   "execution_count": 10,
   "metadata": {},
   "outputs": [],
   "source": [
    "f = open(\"yesterday.txt\" , 'r')\n",
    "yesterday_lyric = \"\"\n",
    "while 1:\n",
    "    line = f.readline()\n",
    "    if not line:\n",
    "        break\n",
    "    yesterday_lyric = yesterday_lyric + line.strip() + \"\\n\"\n",
    "f.close()\n",
    "\n",
    "\n",
    "#상대경로로 인해 작업을 수행할 파일이 동일 파일 내 존재해야함"
   ]
  },
  {
   "cell_type": "code",
   "execution_count": 11,
   "metadata": {},
   "outputs": [
    {
     "data": {
      "text/plain": [
       "\"Yesterday, all my troubles seemed so far away\\nNow it looks as though they're here to stay\\noh, I believe in yesterday\\n\\nSuddenly, I'm not half the man I used to be\\nThere's a shadow hanging over me\\nOh, yesterday came suddenly.\\n\\nWhy she had to go?\\nI don't know, she wouldn't say\\nI said something wrong\\nNow I long for yesterday.\\n\\nYesterday love was such an easy game to play\\nNow I need a place to hide away\\nOh, I believe in yesterday.\\n\\nWhy she had to go?\\nI don't know, she wouldn't say\\nI said something wrong\\nNow I long for yesterday.\\n\\nYesterday love was such an easy game to play\\nNow I need a place to hide away\\nOh, I believe in yesterday...\\n\""
      ]
     },
     "execution_count": 11,
     "metadata": {},
     "output_type": "execute_result"
    }
   ],
   "source": [
    "yesterday_lyric"
   ]
  },
  {
   "cell_type": "code",
   "execution_count": 16,
   "metadata": {},
   "outputs": [
    {
     "name": "stdout",
     "output_type": "stream",
     "text": [
      "Number of a Word 'Yesterday' 9\n"
     ]
    }
   ],
   "source": [
    "n_of_yesterday = yesterday_lyric.lower().count(\"yesterday\")\n",
    "print(\"Number of a Word 'Yesterday'\", n_of_yesterday)\n",
    "#텍스트 마이닝에서 글자 확인을 위해 upper, lower 와 같은 handling 중요"
   ]
  },
  {
   "cell_type": "code",
   "execution_count": 22,
   "metadata": {},
   "outputs": [
    {
     "name": "stdout",
     "output_type": "stream",
     "text": [
      "Number of a Word 'Yesterday' 3\n"
     ]
    }
   ],
   "source": [
    "n_title_of_yesterday = yesterday_lyric.count(\"Yesterday\")\n",
    "print(\"Number of a Word 'Yesterday'\", n_title_of_yesterday)"
   ]
  },
  {
   "cell_type": "code",
   "execution_count": 21,
   "metadata": {},
   "outputs": [
    {
     "name": "stdout",
     "output_type": "stream",
     "text": [
      "Number of a Word 'Yesterday' 6\n"
     ]
    }
   ],
   "source": [
    "n_lower_of_yesterday = yesterday_lyric.count(\"yesterday\")\n",
    "print(\"Number of a Word 'Yesterday'\", n_lower_of_yesterday)"
   ]
  },
  {
   "cell_type": "code",
   "execution_count": 36,
   "metadata": {},
   "outputs": [
    {
     "data": {
      "text/plain": [
       "' '"
      ]
     },
     "execution_count": 36,
     "metadata": {},
     "output_type": "execute_result"
    }
   ],
   "source": [
    "a = \"  Baejinho  \"\n",
    "a[:3][0]"
   ]
  },
  {
   "cell_type": "code",
   "execution_count": 28,
   "metadata": {},
   "outputs": [
    {
     "data": {
      "text/plain": [
       "['abcd', 'e', 'f', 'g']"
      ]
     },
     "execution_count": 28,
     "metadata": {},
     "output_type": "execute_result"
    }
   ],
   "source": [
    "a = \"abcd e f g\"\n",
    "b = a.split()\n",
    "b"
   ]
  },
  {
   "cell_type": "code",
   "execution_count": 30,
   "metadata": {},
   "outputs": [
    {
     "data": {
      "text/plain": [
       "'a'"
      ]
     },
     "execution_count": 30,
     "metadata": {},
     "output_type": "execute_result"
    }
   ],
   "source": [
    "c = (a[:3][0])\n",
    "c"
   ]
  },
  {
   "cell_type": "code",
   "execution_count": 32,
   "metadata": {},
   "outputs": [
    {
     "data": {
      "text/plain": [
       "'a'"
      ]
     },
     "execution_count": 32,
     "metadata": {},
     "output_type": "execute_result"
    }
   ],
   "source": [
    "d = (b[:3][0][0])\n",
    "d"
   ]
  },
  {
   "cell_type": "code",
   "execution_count": 33,
   "metadata": {},
   "outputs": [
    {
     "name": "stdout",
     "output_type": "stream",
     "text": [
      "aa\n"
     ]
    }
   ],
   "source": [
    "print(c+d)"
   ]
  },
  {
   "cell_type": "code",
   "execution_count": 38,
   "metadata": {},
   "outputs": [
    {
     "name": "stdout",
     "output_type": "stream",
     "text": [
      "\n"
     ]
    }
   ],
   "source": [
    "number = \"100\"\n",
    "\n",
    "def midterm(number):\n",
    "    result = \"\"\n",
    "    if number.isdigit() is True:\n",
    "        if number is 100:\n",
    "            if number/10 ==1:\n",
    "                result = True\n",
    "            else:\n",
    "                result = False\n",
    "        return result\n",
    "    \n",
    "print(midterm(number))"
   ]
  },
  {
   "cell_type": "code",
   "execution_count": 57,
   "metadata": {},
   "outputs": [],
   "source": [
    "def is_positive_number(integer_str_value):       #자연수일 시 True 반환\n",
    "    try:\n",
    "        if int(integer_str_value) > 0:\n",
    "            return True\n",
    "        else:\n",
    "            return False\n",
    "\n",
    "        # ==================================\n",
    "    except ValueError:\n",
    "        return False"
   ]
  },
  {
   "cell_type": "code",
   "execution_count": 58,
   "metadata": {},
   "outputs": [],
   "source": [
    "def get_factorial_value(integer_value):\n",
    "    value = int(integer_value)\n",
    "    if value == 1:\n",
    "        return 1\n",
    "    else:\n",
    "        return value * (get_factorial_value(value-1))"
   ]
  },
  {
   "cell_type": "code",
   "execution_count": 59,
   "metadata": {},
   "outputs": [
    {
     "name": "stdout",
     "output_type": "stream",
     "text": [
      "Input a positive number: 5\n",
      "120\n",
      "Input a positive number: 0\n",
      "Thank you for using this program\n"
     ]
    }
   ],
   "source": [
    "def main():\n",
    "    user_input = 999\n",
    "    while (user_input is not 0):              #자연수라면 input을 넣어주고 \n",
    "        user_input = int(input(\"Input a positive number: \"))       \n",
    "        if is_positive_number(user_input):                 #get_factorial함수 실행\n",
    "            result = get_factorial_value(int(user_input))    #결과값 반환\n",
    "            print(result)\n",
    "        elif user_input is 0:         #경우의 수 3가지, elif 구문 사용\n",
    "            print(\"Thank you for using this program\")\n",
    "        else:\n",
    "            print(\"Input again, Please\")\n",
    "                \n",
    "\n",
    "if __name__ == \"__main__\":\n",
    "    main()"
   ]
  },
  {
   "cell_type": "code",
   "execution_count": 1,
   "metadata": {},
   "outputs": [
    {
     "name": "stdout",
     "output_type": "stream",
     "text": [
      "Input a positive number:120\n",
      "6689502913449127057588118054090372586752746333138029810295671352301633557244962989366874165271984981308157637893214090552534408589408121859898481114389650005964960521256960000000000000000000000000000\n",
      "Input a positive number:10\n",
      "3628800\n",
      "Input a positive number:abc\n",
      "Input again, Please\n",
      "Input a positive number:ls\n",
      "Input again, Please\n",
      "Input a positive number:32.3\n",
      "Input again, Please\n",
      "Input a positive number:0\n",
      "Thank you for using this program\n"
     ]
    }
   ],
   "source": [
    "def is_positive_number(integer_str_value):       #자연수일 시 True 반환\n",
    "    try:\n",
    "        if int(integer_str_value) > 0:\n",
    "            return True\n",
    "        else:\n",
    "            return False\n",
    "\n",
    "        # ==================================\n",
    "    except ValueError:\n",
    "        return False\n",
    " \n",
    "def get_factorial_value(integer_value):\n",
    "    value = int(integer_value)\n",
    "    if value == 1:\n",
    "        return 1\n",
    "    else:\n",
    "        return value * (get_factorial_value(value - 1))\n",
    "    \n",
    "    \n",
    "def main():\n",
    "    user_input = 999\n",
    "    while (user_input is not '0'):              #자연수라면 input을 넣어주고 \n",
    "        user_input = input(\"Input a positive number:\")       \n",
    "        if is_positive_number(user_input):                 #get_factorial함수 실행\n",
    "            result = get_factorial_value(int(user_input))    #결과값 반환\n",
    "            print(result)\n",
    "        elif user_input is '0':         #경우의 수 3가지, elif 구문 사용\n",
    "            print(\"Thank you for using this program\")\n",
    "        else:\n",
    "            print(\"Input again, Please\")\n",
    "                \n",
    "\n",
    "if __name__ == \"__main__\":\n",
    "    main()    "
   ]
  },
  {
   "cell_type": "code",
   "execution_count": null,
   "metadata": {},
   "outputs": [],
   "source": []
  }
 ],
 "metadata": {
  "kernelspec": {
   "display_name": "Python 3",
   "language": "python",
   "name": "python3"
  },
  "language_info": {
   "codemirror_mode": {
    "name": "ipython",
    "version": 3
   },
   "file_extension": ".py",
   "mimetype": "text/x-python",
   "name": "python",
   "nbconvert_exporter": "python",
   "pygments_lexer": "ipython3",
   "version": "3.6.5"
  }
 },
 "nbformat": 4,
 "nbformat_minor": 2
}
