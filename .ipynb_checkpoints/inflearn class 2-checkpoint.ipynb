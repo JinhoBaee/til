{
 "cells": [
  {
   "cell_type": "code",
   "execution_count": 7,
   "metadata": {},
   "outputs": [],
   "source": [
    "# integer와 string 더하기===============================================\n",
    "def add_string_number(string, float_number):\n",
    "    # \"\"\"\n",
    "    # Input:\n",
    "    # \t-string: 문자열\n",
    "    # \t-float_number: 실수 값\n",
    "    # Output:\n",
    "    # \t-문자열과 실수 값이 연결된 문자열 값\n",
    "    # Examples:\n",
    "    # \t>>> add_string_number(\"Gachon\", 3)\n",
    "    # \t\"Gachon3\"\n",
    "    # \t>>> add_string_number(\"jiho\",14)\n",
    "    # \t\"jiho14\"\n",
    "    # \"\"\"\n",
    "    # ===Modify codes below=================\n",
    "\n",
    "    result = string + str(float_number)\n",
    "\n",
    "    # ======================================\n",
    "    return result"
   ]
  },
  {
   "cell_type": "code",
   "execution_count": 11,
   "metadata": {},
   "outputs": [
    {
     "data": {
      "text/plain": [
       "3"
      ]
     },
     "execution_count": 11,
     "metadata": {},
     "output_type": "execute_result"
    }
   ],
   "source": [
    "a = 3\n",
    "a"
   ]
  },
  {
   "cell_type": "code",
   "execution_count": 15,
   "metadata": {},
   "outputs": [
    {
     "ename": "TypeError",
     "evalue": "must be str, not float",
     "output_type": "error",
     "traceback": [
      "\u001b[1;31m---------------------------------------------------------------------------\u001b[0m",
      "\u001b[1;31mTypeError\u001b[0m                                 Traceback (most recent call last)",
      "\u001b[1;32m<ipython-input-15-e55d76959ba9>\u001b[0m in \u001b[0;36m<module>\u001b[1;34m()\u001b[0m\n\u001b[0;32m      1\u001b[0m \u001b[0ma\u001b[0m \u001b[1;33m=\u001b[0m \u001b[1;34m'abc'\u001b[0m\u001b[1;33m\u001b[0m\u001b[0m\n\u001b[0;32m      2\u001b[0m \u001b[0mb\u001b[0m \u001b[1;33m=\u001b[0m \u001b[1;36m3.5\u001b[0m\u001b[1;33m\u001b[0m\u001b[0m\n\u001b[1;32m----> 3\u001b[1;33m \u001b[0ma\u001b[0m\u001b[1;33m+\u001b[0m\u001b[0mb\u001b[0m\u001b[1;33m\u001b[0m\u001b[0m\n\u001b[0m",
      "\u001b[1;31mTypeError\u001b[0m: must be str, not float"
     ]
    }
   ],
   "source": [
    "a = 'abc'\n",
    "b = 3.5"
   ]
  },
  {
   "cell_type": "code",
   "execution_count": 16,
   "metadata": {},
   "outputs": [
    {
     "data": {
      "text/plain": [
       "'abc3.5'"
      ]
     },
     "execution_count": 16,
     "metadata": {},
     "output_type": "execute_result"
    }
   ],
   "source": [
    "a + str(b)"
   ]
  },
  {
   "cell_type": "code",
   "execution_count": 14,
   "metadata": {},
   "outputs": [
    {
     "name": "stdout",
     "output_type": "stream",
     "text": [
      "3\n"
     ]
    }
   ],
   "source": [
    "b = print(3)\n",
    "b"
   ]
  },
  {
   "cell_type": "code",
   "execution_count": 8,
   "metadata": {},
   "outputs": [
    {
     "ename": "SyntaxError",
     "evalue": "invalid syntax (<ipython-input-8-fdd22affd6d7>, line 1)",
     "output_type": "error",
     "traceback": [
      "\u001b[1;36m  File \u001b[1;32m\"<ipython-input-8-fdd22affd6d7>\"\u001b[1;36m, line \u001b[1;32m1\u001b[0m\n\u001b[1;33m    def add_string_number(string, 3)\u001b[0m\n\u001b[1;37m                                  ^\u001b[0m\n\u001b[1;31mSyntaxError\u001b[0m\u001b[1;31m:\u001b[0m invalid syntax\n"
     ]
    }
   ],
   "source": [
    "def add_string_number(string, 3)"
   ]
  },
  {
   "cell_type": "code",
   "execution_count": 26,
   "metadata": {},
   "outputs": [],
   "source": [
    "# string과 string 더하기================================================\n",
    "def add_string_string(str_1 :str, str_2 :str):\n",
    "    # \"\"\"\n",
    "    # Input:\n",
    "    #   -str_1: 문자열\n",
    "    #   -str_2: 문자열\n",
    "    # Output:\n",
    "    # \t-str: 두 문자열의 연결된 문자열 값\n",
    "    # Examples:\n",
    "    # \t>>> add_string_string(\"3\", \"흐흐흐\")\n",
    "    # \t\"3흐흐흐\"\n",
    "    # \t>>> add_string_string(\"135\", \"45.76\")\n",
    "    # \t\"13545.76\"\n",
    "    # \"\"\"\n",
    "    # ===Modify codes below=================\n",
    "\n",
    "    result = str(str_1)+str(str_2)\n",
    "\n",
    "    # ======================================\n",
    "    return result"
   ]
  },
  {
   "cell_type": "code",
   "execution_count": 18,
   "metadata": {},
   "outputs": [
    {
     "data": {
      "text/plain": [
       "'aaabbb'"
      ]
     },
     "execution_count": 18,
     "metadata": {},
     "output_type": "execute_result"
    }
   ],
   "source": [
    "a=\"aaa\"\n",
    "b=\"bbb\"\n",
    "a+b"
   ]
  },
  {
   "cell_type": "code",
   "execution_count": 25,
   "metadata": {},
   "outputs": [
    {
     "data": {
      "text/plain": [
       "'aaabbb'"
      ]
     },
     "execution_count": 25,
     "metadata": {},
     "output_type": "execute_result"
    }
   ],
   "source": [
    "add_string_string(\"aaa\",\"bbb\")"
   ]
  },
  {
   "cell_type": "code",
   "execution_count": 32,
   "metadata": {},
   "outputs": [],
   "source": [
    "# 사칙연산==============================================================\n",
    "def associative_law_add(a, b, c):\n",
    "\n",
    "    # \"\"\"\n",
    "    # <설명>\n",
    "    # 아래의 연산에 결합법칙을 적용해 계산하여라.\n",
    "    # (a + b) + c\n",
    "    #\n",
    "    # Input:\n",
    "    # \t-a, b, c: 실수 값\n",
    "    # Output:\n",
    "    # \t-결합법칙이 적용되어 계산된 실수 값\n",
    "    # Examples:\n",
    "    # \t>>> commutative_law(3, 4, 5)\n",
    "    # \t12\n",
    "    # \"\"\"\n",
    "    # ===Modify codes below=================\n",
    "\n",
    "    result = (a+b)+c\n",
    "\n",
    "    # ======================================\n",
    "\n",
    "    return result"
   ]
  },
  {
   "cell_type": "code",
   "execution_count": 35,
   "metadata": {},
   "outputs": [
    {
     "data": {
      "text/plain": [
       "9.600000000000001"
      ]
     },
     "execution_count": 35,
     "metadata": {},
     "output_type": "execute_result"
    }
   ],
   "source": [
    "a=3.1\n",
    "b=3.2\n",
    "c=3.3\n",
    "(a+b)+c"
   ]
  },
  {
   "cell_type": "code",
   "execution_count": 53,
   "metadata": {},
   "outputs": [
    {
     "data": {
      "text/plain": [
       "5.9"
      ]
     },
     "execution_count": 53,
     "metadata": {},
     "output_type": "execute_result"
    }
   ],
   "source": [
    "associative_law_add(1.2, 1.5, 3.2)"
   ]
  },
  {
   "cell_type": "code",
   "execution_count": 64,
   "metadata": {},
   "outputs": [],
   "source": [
    "def associative_law_mutiple(a, b, c):\n",
    "\n",
    "    # \"\"\"\n",
    "    # <설명>\n",
    "    #   아래의 연산에 결합법칙을 적용해 계산하여라.\n",
    "    #   (a * b) * c\n",
    "    # Input:\n",
    "    # \t-a, b, c: 실수 값\n",
    "    # Output:\n",
    "    # \t-결합법칙이 적용되어 계산된 실수 값\n",
    "    # Examples:\n",
    "    # \t>>> associative_law_mutiple(3, 4, 5)\n",
    "    # \t60\n",
    "    # \"\"\"\n",
    "    # ===Modify codes below=================\n",
    "\n",
    "    result = (a*b)*c\n",
    "\n",
    "    # ======================================\n",
    "\n",
    "    return result"
   ]
  },
  {
   "cell_type": "code",
   "execution_count": 65,
   "metadata": {},
   "outputs": [
    {
     "data": {
      "text/plain": [
       "96"
      ]
     },
     "execution_count": 65,
     "metadata": {},
     "output_type": "execute_result"
    }
   ],
   "source": [
    "a=3\n",
    "b=4\n",
    "c=8\n",
    "(a*b)*c"
   ]
  },
  {
   "cell_type": "code",
   "execution_count": 66,
   "metadata": {},
   "outputs": [
    {
     "ename": "NameError",
     "evalue": "name 'associative_law_multiple' is not defined",
     "output_type": "error",
     "traceback": [
      "\u001b[1;31m---------------------------------------------------------------------------\u001b[0m",
      "\u001b[1;31mNameError\u001b[0m                                 Traceback (most recent call last)",
      "\u001b[1;32m<ipython-input-66-bd7efb86c0e4>\u001b[0m in \u001b[0;36m<module>\u001b[1;34m()\u001b[0m\n\u001b[1;32m----> 1\u001b[1;33m \u001b[0massociative_law_multiple\u001b[0m\u001b[1;33m(\u001b[0m\u001b[1;36m1.1\u001b[0m\u001b[1;33m,\u001b[0m \u001b[1;36m5.8\u001b[0m\u001b[1;33m,\u001b[0m \u001b[1;36m2.5\u001b[0m\u001b[1;33m)\u001b[0m\u001b[1;33m\u001b[0m\u001b[0m\n\u001b[0m",
      "\u001b[1;31mNameError\u001b[0m: name 'associative_law_multiple' is not defined"
     ]
    }
   ],
   "source": [
    "associative_law_multiple(1.1, 5.8, 2.5)"
   ]
  },
  {
   "cell_type": "code",
   "execution_count": 54,
   "metadata": {},
   "outputs": [
    {
     "data": {
      "text/plain": [
       "7"
      ]
     },
     "execution_count": 54,
     "metadata": {},
     "output_type": "execute_result"
    }
   ],
   "source": [
    "associative_law_add(4,2,1)"
   ]
  },
  {
   "cell_type": "code",
   "execution_count": 56,
   "metadata": {},
   "outputs": [
    {
     "ename": "NameError",
     "evalue": "name 'associative_law_multiple' is not defined",
     "output_type": "error",
     "traceback": [
      "\u001b[1;31m---------------------------------------------------------------------------\u001b[0m",
      "\u001b[1;31mNameError\u001b[0m                                 Traceback (most recent call last)",
      "\u001b[1;32m<ipython-input-56-9d449847bd9e>\u001b[0m in \u001b[0;36m<module>\u001b[1;34m()\u001b[0m\n\u001b[1;32m----> 1\u001b[1;33m \u001b[0massociative_law_multiple\u001b[0m\u001b[1;33m(\u001b[0m\u001b[1;36m1.2\u001b[0m\u001b[1;33m,\u001b[0m \u001b[1;36m2.5\u001b[0m\u001b[1;33m,\u001b[0m \u001b[1;36m5.7\u001b[0m\u001b[1;33m)\u001b[0m\u001b[1;33m\u001b[0m\u001b[0m\n\u001b[0m",
      "\u001b[1;31mNameError\u001b[0m: name 'associative_law_multiple' is not defined"
     ]
    }
   ],
   "source": [
    "associative_law_multiple(1.2, 2.5, 5.7)"
   ]
  },
  {
   "cell_type": "code",
   "execution_count": 57,
   "metadata": {},
   "outputs": [],
   "source": [
    "def distributive_law(a, b, c):\n",
    "\n",
    "    # \"\"\"\n",
    "    # <설명>\n",
    "    #   아래의 연산에 분배법칙을 적용해 계산하여라.\n",
    "    #   a * (b + c)\n",
    "    # Input:\n",
    "    # \t-a, b, c: 실수 값\n",
    "    # Output:\n",
    "    # \t-분배법칙이 적용되어 계산된 실수 값\n",
    "    # Examples:\n",
    "    # \t>>> distributive_law(3, 4, 5)\n",
    "    # \t27\n",
    "    # \"\"\"\n",
    "    # ===Modify codes below=================\n",
    "    result = a*(b+c)\n",
    "    # ======================================\n",
    "\n",
    "    return result"
   ]
  },
  {
   "cell_type": "code",
   "execution_count": 58,
   "metadata": {},
   "outputs": [
    {
     "data": {
      "text/plain": [
       "22"
      ]
     },
     "execution_count": 58,
     "metadata": {},
     "output_type": "execute_result"
    }
   ],
   "source": [
    "distributive_law(2,6,5)"
   ]
  },
  {
   "cell_type": "code",
   "execution_count": 62,
   "metadata": {},
   "outputs": [],
   "source": [
    "def exponent(base, power):\n",
    "\n",
    "    # \"\"\"\n",
    "    # <설명>\n",
    "    #   다음의 곱셈연산을 지수연산으로 바꿔 계산하여라.\n",
    "    #   base * base * base * ... * base\n",
    "    # Input:\n",
    "    # \t-base, power: 실수 값\n",
    "    # Output:\n",
    "    # \t-지수연산이 적용되어 계산된 값\n",
    "    # Examples:\n",
    "    # \t>>> exponent(3, 4)\n",
    "    # \t81\n",
    "    # \"\"\"\n",
    "    # ===Modify codes below=================\n",
    "    result = base**power\n",
    "    # ======================================\n",
    "\n",
    "    return result"
   ]
  },
  {
   "cell_type": "code",
   "execution_count": 63,
   "metadata": {},
   "outputs": [
    {
     "data": {
      "text/plain": [
       "4096"
      ]
     },
     "execution_count": 63,
     "metadata": {},
     "output_type": "execute_result"
    }
   ],
   "source": [
    "exponent(4,6)"
   ]
  },
  {
   "cell_type": "code",
   "execution_count": 71,
   "metadata": {},
   "outputs": [],
   "source": [
    "def associative_law_multiple(a, b, c):\n",
    "\n",
    "    # \"\"\"\n",
    "    # <설명>\n",
    "    #   아래의 연산에 결합법칙을 적용해 계산하여라.\n",
    "    #   (a * b) * c\n",
    "    # Input:\n",
    "    # \t-a, b, c: 실수 값\n",
    "    # Output:\n",
    "    # \t-결합법칙이 적용되어 계산된 실수 값\n",
    "    # Examples:\n",
    "    # \t>>> associative_law_mutiple(3, 4, 5)\n",
    "    # \t60\n",
    "    # \"\"\"\n",
    "    # ===Modify codes below=================\n",
    "\n",
    "    result = (a*b)*c\n",
    "\n",
    "    # ======================================\n",
    "\n",
    "    return result"
   ]
  },
  {
   "cell_type": "code",
   "execution_count": 72,
   "metadata": {},
   "outputs": [
    {
     "data": {
      "text/plain": [
       "37.632"
      ]
     },
     "execution_count": 72,
     "metadata": {},
     "output_type": "execute_result"
    }
   ],
   "source": [
    "associative_law_multiple(3.2, 5.6, 2.1)"
   ]
  },
  {
   "cell_type": "code",
   "execution_count": 73,
   "metadata": {},
   "outputs": [
    {
     "name": "stdout",
     "output_type": "stream",
     "text": [
      "hello world hello again\n"
     ]
    }
   ],
   "source": [
    "print(\"hello world\",\"hello again\")"
   ]
  },
  {
   "cell_type": "code",
   "execution_count": 74,
   "metadata": {},
   "outputs": [
    {
     "name": "stdout",
     "output_type": "stream",
     "text": [
      "온도를 입력하세요:32.3\n",
      "32.3\n",
      "<class 'float'>\n"
     ]
    }
   ],
   "source": [
    "temperature=float(input(\"온도를 입력하세요:\"))\n",
    "print(temperature)\n",
    "print(type(temperature))"
   ]
  },
  {
   "cell_type": "code",
   "execution_count": 75,
   "metadata": {},
   "outputs": [
    {
     "name": "stdout",
     "output_type": "stream",
     "text": [
      "본 프로그램은 섭씨를 화씨로 변환해주는 프로그램입니다\n",
      "변환하고 싶은 섭씨 온도를 입력\n",
      "32\n",
      "섭씨온도: 32.0\n",
      "섭씨온도: 89.6\n"
     ]
    }
   ],
   "source": [
    "print(\"본 프로그램은 섭씨를 화씨로 변환해주는 프로그램입니다\")\n",
    "print(\"변환하고 싶은 섭씨 온도를 입력\")\n",
    "\n",
    "user_input = input()\n",
    "celcius = float(user_input)\n",
    "fah = ((9/5)*celcius)+32\n",
    "\n",
    "print(\"섭씨온도:\",celcius)\n",
    "print(\"섭씨온도:\",fah)"
   ]
  },
  {
   "cell_type": "code",
   "execution_count": 78,
   "metadata": {},
   "outputs": [
    {
     "name": "stdout",
     "output_type": "stream",
     "text": [
      "화씨 전환 프로그램\n",
      "온도를 입력하세요\n",
      "32\n",
      "섭씨온도 32.0\n",
      "화씨온도 89.6\n"
     ]
    }
   ],
   "source": [
    "print(\"화씨 전환 프로그램\")\n",
    "print(\"온도를 입력하세요\")\n",
    "\n",
    "user_input=input()\n",
    "celcius=float(user_input)\n",
    "fah=((9/5)*celcius)+32\n",
    "\n",
    "print(\"섭씨온도\",celcius)\n",
    "print(\"화씨온도\",fah)"
   ]
  },
  {
   "cell_type": "code",
   "execution_count": 87,
   "metadata": {
    "scrolled": true
   },
   "outputs": [
    {
     "name": "stdout",
     "output_type": "stream",
     "text": [
      "1 2 3\n",
      "ac\n",
      "{} {} {}\n"
     ]
    }
   ],
   "source": [
    "print(1,2,3)\n",
    "print(\"a\"+\"\"+\"c\")\n",
    "print(\"{} {} {}\")"
   ]
  },
  {
   "cell_type": "code",
   "execution_count": 92,
   "metadata": {},
   "outputs": [
    {
     "name": "stdout",
     "output_type": "stream",
     "text": [
      "one two\n",
      "1 2\n",
      "one two\n",
      "1 2\n"
     ]
    }
   ],
   "source": [
    "#percentage formating\n",
    "print('%s %s' % ('one', 'two')) #str\n",
    "print('%s %s' % (1,2))       #integer\n",
    "\n",
    "#str formating\n",
    "print('{} {}'.format('one','two'))\n",
    "print('{} {}'.format(1,2))"
   ]
  },
  {
   "cell_type": "code",
   "execution_count": 100,
   "metadata": {},
   "outputs": [
    {
     "name": "stdout",
     "output_type": "stream",
     "text": [
      "I eat 3 apples.\n",
      "I eat five apples\n",
      "I eat 3 apples. I was sick for five days\n",
      "Product: Apple,      Price per unit: 5.423000\n"
     ]
    }
   ],
   "source": [
    "#Percentage Formating\n",
    "print(\"I eat %d apples.\" % 3)          #%demical type\n",
    "print(\"I eat %s apples\" % \"five\")      #%string type\n",
    "                                       #%float type\n",
    "print(\"I eat %d apples. I was sick for %s days\" % (3, \"five\"))\n",
    "print(\"Product: %s,      Price per unit: %f\" % (\"Apple\", 5.423))"
   ]
  },
  {
   "cell_type": "code",
   "execution_count": 114,
   "metadata": {},
   "outputs": [
    {
     "name": "stdout",
     "output_type": "stream",
     "text": [
      "Art:    453,  Price per Unit:     59.06 \n"
     ]
    }
   ],
   "source": [
    "#Floating+Padding\n",
    "\n",
    "print(\"Art:  %5d,  Price per Unit:  %8.2f \" % (453,59.058))\n",
    "#자릿수 5 확보해라 + float=소수점 둘째자리까지"
   ]
  },
  {
   "cell_type": "markdown",
   "metadata": {},
   "source": [
    "age = 25\n",
    "name = 'Jinho Bae'\n",
    "\n",
    "print(\"I'm {0} years old.\".format(age))\n",
    "print(\"My name is {0} and {1} years old.\".format(name,age))\n",
    "\n",
    "print(\"Product: {0}, Price per unit: {1:.2f}\".format(\"Apple\",5.265))"
   ]
  },
  {
   "cell_type": "code",
   "execution_count": 146,
   "metadata": {},
   "outputs": [
    {
     "name": "stdout",
     "output_type": "stream",
     "text": [
      "Product: Apple, Price per unit: 5.2430000000\n",
      "Product: Apple, Price per unit: 5.243000000\n",
      "Product:      Apple, Price per unit:      5.243\n",
      "Product: Apple     , Price per unit:      5.243\n",
      "Product:      Apple, Price per unit:      5.243\n"
     ]
    }
   ],
   "source": [
    "#Padding\n",
    "\n",
    "print(\"Product: %5s, Price per unit: %.10f\" % (\"Apple\",5.243))\n",
    "print(\"Product: {0:5s}, Price per unit: {1:.9f}\".format(\"Apple\",5.243))\n",
    "print(\"Product: %10s, Price per unit: %10.3f\" % (\"Apple\",5.243)) #우측정렬\n",
    "print(\"Product: {0:10s}, Price per unit: {1:10.3f}\".format(\"Apple\",5.243))\n",
    "print(\"Product: {0:>10s}, Price per unit: {1:10.3f}\".format(\"Apple\",5.243))"
   ]
  },
  {
   "cell_type": "code",
   "execution_count": null,
   "metadata": {},
   "outputs": [],
   "source": [
    "\n"
   ]
  }
 ],
 "metadata": {
  "kernelspec": {
   "display_name": "Python 3",
   "language": "python",
   "name": "python3"
  },
  "language_info": {
   "codemirror_mode": {
    "name": "ipython",
    "version": 3
   },
   "file_extension": ".py",
   "mimetype": "text/x-python",
   "name": "python",
   "nbconvert_exporter": "python",
   "pygments_lexer": "ipython3",
   "version": "3.6.5"
  }
 },
 "nbformat": 4,
 "nbformat_minor": 2
}
