{
 "cells": [
  {
   "cell_type": "code",
   "execution_count": 1,
   "metadata": {},
   "outputs": [
    {
     "name": "stdout",
     "output_type": "stream",
     "text": [
      "Start of Exam Grader Program\n",
      "============================\n",
      "과목수를 입력하세요:3\n",
      "1번째 과목의 점수를 입력하세요 : 85\n",
      "2번째 과목의 점수를 입력하세요 : 95\n",
      "3번째 과목의 점수를 입력하세요 : 100\n",
      "평균 점수:  93.33333333333333\n",
      "학     점:  A\n",
      "===========================\n",
      "End of Exame Grader Program\n"
     ]
    }
   ],
   "source": [
    "def get_number_of_subjects():\n",
    "\n",
    "    # \"\"\"\n",
    "    # Input:\n",
    "    # \t- None\n",
    "    # Output:\n",
    "    # \t- number_of_subjects: Integer Type의 총 과목 수\n",
    "    # Examples(python shell):\n",
    "    # \t>>> import exam_grader as eg\n",
    "    # \t>>> eg.get_number_of_subjects()\n",
    "    #   과목수를 입력하세요: 10\n",
    "    #   10\n",
    "    # \"\"\"\n",
    "    #\n",
    "    # ===Modify codes below=================\n",
    "    number_of_subjects = int(input(\"과목 수를 입력하세요:\"))\n",
    "    # ======================================\n",
    "    return number_of_subjects\n",
    "\n",
    "\n",
    "# Help Funtion - 수정하지 말 것\n",
    "def sum_of_scores(number_of_subjects):\n",
    "\n",
    "    total_score = 0\n",
    "    for i in range(number_of_subjects):\n",
    "        message = str(i + 1) + \"번째 과목의 점수를 입력하세요 : \"\n",
    "        score = int(input(message))\n",
    "        total_score = total_score + score\n",
    "    return total_score\n",
    "\n",
    "\n",
    "# Help Funtion - 수정하지 말 것\n",
    "def print_exam_grader(average_score):\n",
    "    grade = 'F'\n",
    "    if average_score >= 90.0:\n",
    "        grade = 'A'\n",
    "    elif average_score >= 80.0:\n",
    "        grade = 'B'\n",
    "    elif average_score >= 70.0:\n",
    "        grade = 'C'\n",
    "    elif average_score >= 60.0:\n",
    "        grade = 'D'\n",
    "    else:\n",
    "        grade = 'F'\n",
    "    print(\"평균 점수: \", average_score)\n",
    "    print(\"학     점: \", grade)\n",
    "\n",
    "def get_average_score(total_score,number_of_subjects):\n",
    "    average_score = total_score/number_of_subjects\n",
    "    return average_score                              #함\n",
    "\n",
    "\n",
    "def main():\n",
    "    print(\"Start of Exam Grader Program\")\n",
    "    print(\"============================\")\n",
    "\n",
    "    number_of_subjects = get_number_of_subjects()\n",
    "    total_score = float(sum_of_scores(number_of_subjects))\n",
    "    \n",
    "    average_score = get_average_score(total_score,number_of_subjects)\n",
    "    print_exam_grader(average_score)\n",
    "\n",
    "    print(\"===========================\")\n",
    "    print(\"End of Exame Grader Program\")\n",
    "\n",
    "if __name__ == '__main__':\n",
    "    main()\n"
   ]
  },
  {
   "cell_type": "markdown",
   "metadata": {},
   "source": []
  },
  {
   "cell_type": "code",
   "execution_count": null,
   "metadata": {},
   "outputs": [],
   "source": []
  },
  {
   "cell_type": "code",
   "execution_count": null,
   "metadata": {},
   "outputs": [],
   "source": []
  },
  {
   "cell_type": "code",
   "execution_count": null,
   "metadata": {},
   "outputs": [],
   "source": []
  },
  {
   "cell_type": "code",
   "execution_count": null,
   "metadata": {},
   "outputs": [],
   "source": []
  },
  {
   "cell_type": "code",
   "execution_count": null,
   "metadata": {},
   "outputs": [],
   "source": []
  },
  {
   "cell_type": "code",
   "execution_count": null,
   "metadata": {},
   "outputs": [],
   "source": []
  },
  {
   "cell_type": "code",
   "execution_count": null,
   "metadata": {},
   "outputs": [],
   "source": []
  }
 ],
 "metadata": {
  "kernelspec": {
   "display_name": "Python 3",
   "language": "python",
   "name": "python3"
  },
  "language_info": {
   "codemirror_mode": {
    "name": "ipython",
    "version": 3
   },
   "file_extension": ".py",
   "mimetype": "text/x-python",
   "name": "python",
   "nbconvert_exporter": "python",
   "pygments_lexer": "ipython3",
   "version": "3.6.5"
  }
 },
 "nbformat": 4,
 "nbformat_minor": 2
}
