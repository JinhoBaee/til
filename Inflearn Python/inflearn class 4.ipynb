{
 "cells": [
  {
   "cell_type": "code",
   "execution_count": 1,
   "metadata": {},
   "outputs": [
    {
     "name": "stdout",
     "output_type": "stream",
     "text": [
      "Start of Exam Grader Program\n",
      "============================\n",
      "과목수를 입력하세요:3\n",
      "1번째 과목의 점수를 입력하세요 : 85\n",
      "2번째 과목의 점수를 입력하세요 : 95\n",
      "3번째 과목의 점수를 입력하세요 : 100\n",
      "평균 점수:  93.33333333333333\n",
      "학     점:  A\n",
      "===========================\n",
      "End of Exame Grader Program\n"
     ]
    }
   ],
   "source": [
    "def get_number_of_subjects():\n",
    "\n",
    "    # \"\"\"\n",
    "    # Input:\n",
    "    # \t- None\n",
    "    # Output:\n",
    "    # \t- number_of_subjects: Integer Type의 총 과목 수\n",
    "    # Examples(python shell):\n",
    "    # \t>>> import exam_grader as eg\n",
    "    # \t>>> eg.get_number_of_subjects()\n",
    "    #   과목수를 입력하세요: 10\n",
    "    #   10\n",
    "    # \"\"\"\n",
    "    #\n",
    "    # ===Modify codes below=================\n",
    "    number_of_subjects = int(input(\"과목 수를 입력하세요:\"))\n",
    "    # ======================================\n",
    "    return number_of_subjects\n",
    "\n",
    "\n",
    "# Help Funtion - 수정하지 말 것\n",
    "def sum_of_scores(number_of_subjects):\n",
    "\n",
    "    total_score = 0\n",
    "    for i in range(number_of_subjects):\n",
    "        message = str(i + 1) + \"번째 과목의 점수를 입력하세요 : \"\n",
    "        score = int(input(message))\n",
    "        total_score = total_score + score\n",
    "    return total_score\n",
    "\n",
    "\n",
    "# Help Funtion - 수정하지 말 것\n",
    "def print_exam_grader(average_score):\n",
    "    grade = 'F'\n",
    "    if average_score >= 90.0:\n",
    "        grade = 'A'\n",
    "    elif average_score >= 80.0:\n",
    "        grade = 'B'\n",
    "    elif average_score >= 70.0:\n",
    "        grade = 'C'\n",
    "    elif average_score >= 60.0:\n",
    "        grade = 'D'\n",
    "    else:\n",
    "        grade = 'F'\n",
    "    print(\"평균 점수: \", average_score)\n",
    "    print(\"학     점: \", grade)\n",
    "\n",
    "def get_average_score(total_score,number_of_subjects):\n",
    "    average_score = total_score/number_of_subjects\n",
    "    return average_score                              #함\n",
    "\n",
    "\n",
    "def main():\n",
    "    print(\"Start of Exam Grader Program\")\n",
    "    print(\"============================\")\n",
    "\n",
    "    number_of_subjects = get_number_of_subjects()\n",
    "    total_score = float(sum_of_scores(number_of_subjects))\n",
    "    \n",
    "    average_score = get_average_score(total_score,number_of_subjects)\n",
    "    print_exam_grader(average_score)\n",
    "\n",
    "    print(\"===========================\")\n",
    "    print(\"End of Exame Grader Program\")\n",
    "\n",
    "if __name__ == '__main__':\n",
    "    main()\n"
   ]
  },
  {
   "cell_type": "markdown",
   "metadata": {},
   "source": [
    "# 제어문과 반복문\n",
    "\n",
    "## 조건문\n",
    "#### 조건에 따라 특정한 동작을 하게하는 명령어\n",
    "#### 조건을 나타내는 기준 + 실행해야 할 명령  (참 or 거짓)\n",
    "### If, Else, Elif\n"
   ]
  },
  {
   "cell_type": "code",
   "execution_count": 8,
   "metadata": {},
   "outputs": [
    {
     "name": "stdout",
     "output_type": "stream",
     "text": [
      "Tell me your age?\n",
      "24\n",
      "Welcome to our Club\n"
     ]
    }
   ],
   "source": [
    "print(\"Tell me your age?\")\n",
    "myage = int(input())\n",
    "\n",
    "if myage < 30:\n",
    "    print(\"Welcome to our Club\")\n",
    "else:\n",
    "    print(\"Oh! No. You can't entered.\")"
   ]
  },
  {
   "cell_type": "markdown",
   "metadata": {},
   "source": [
    "# If-else문 문법\n",
    "\n",
    "## if < 조건>:     if 를 쓰고 조건 삽입 후 :\n",
    "        <수행명령1-1>   들여쓰기 후 수행명령\n",
    "        <수행명령1-2>   같은 조건 하 = 들여쓰기 유지\n",
    "## else \n",
    "        <수행명령2>\n",
    "       \n",
    "       \n",
    "#### x == y 같다"
   ]
  },
  {
   "cell_type": "code",
   "execution_count": 9,
   "metadata": {},
   "outputs": [
    {
     "name": "stdout",
     "output_type": "stream",
     "text": [
      "True\n"
     ]
    }
   ],
   "source": [
    "if 1:\n",
    "    print(\"True\")\n",
    "else:\n",
    "    print(\"False\")    #존재하면 참(1) , 없다면 거짓(0)"
   ]
  },
  {
   "cell_type": "code",
   "execution_count": 11,
   "metadata": {
    "scrolled": true
   },
   "outputs": [
    {
     "name": "stdout",
     "output_type": "stream",
     "text": [
      "false\n"
     ]
    }
   ],
   "source": [
    "if \"\":\n",
    "    print(\"true\")\n",
    "else:\n",
    "    print(\"false\")"
   ]
  },
  {
   "cell_type": "code",
   "execution_count": 17,
   "metadata": {},
   "outputs": [
    {
     "data": {
      "text/plain": [
       "True"
      ]
     },
     "execution_count": 17,
     "metadata": {},
     "output_type": "execute_result"
    }
   ],
   "source": [
    "a = 3\n",
    "b = 3\n",
    "a is b          #1~256 까지 메모리에 적재"
   ]
  },
  {
   "cell_type": "code",
   "execution_count": 19,
   "metadata": {},
   "outputs": [
    {
     "data": {
      "text/plain": [
       "False"
      ]
     },
     "execution_count": 19,
     "metadata": {},
     "output_type": "execute_result"
    }
   ],
   "source": [
    "a = 257\n",
    "b = 257\n",
    "a is b          #257부터는 새로운 메모리"
   ]
  },
  {
   "cell_type": "markdown",
   "metadata": {},
   "source": [
    "# [연습] 무슨 학교 다니세요\n",
    "\n",
    "## 태어난 연도를 계산하여 학교 종류 맞추기"
   ]
  },
  {
   "cell_type": "code",
   "execution_count": 5,
   "metadata": {},
   "outputs": [
    {
     "name": "stdout",
     "output_type": "stream",
     "text": [
      "당신이 태어난 년도를 입력하세요\n",
      "1995\n",
      "대학생\n"
     ]
    }
   ],
   "source": [
    "print(\"당신이 태어난 년도를 입력하세요\")\n",
    "\n",
    "birth_year = input()\n",
    "age = 2018 - int(birth_year) + 1\n",
    "\n",
    "if age <= 26 and age >= 20:\n",
    "    print(\"대학생\")\n",
    "elif age < 20 and age >= 17:\n",
    "    print(\"고등학생\")\n",
    "elif age < 17 and age >= 14:\n",
    "    print(\"중학생\")\n",
    "elif age < 14 and age >= 8:\n",
    "    print(\"초등학생\")\n",
    "else:\n",
    "    print(\"학생이 아닙니다\")"
   ]
  },
  {
   "cell_type": "markdown",
   "metadata": {},
   "source": [
    "# Loop 반복문\n",
    "\n",
    "## 정해진 동작을 반복적으로 수행하게 하는 명령문\n",
    "### 반복문은 반복 시작 조건 / 종료 조건 / 수행 명령 으로 구성\n",
    "### 들여쓰기와 Block 으로 구분  (For, While)\n"
   ]
  },
  {
   "cell_type": "markdown",
   "metadata": {},
   "source": [
    "# for문"
   ]
  },
  {
   "cell_type": "code",
   "execution_count": 6,
   "metadata": {},
   "outputs": [
    {
     "name": "stdout",
     "output_type": "stream",
     "text": [
      "hello\n",
      "hello\n",
      "hello\n",
      "hello\n",
      "hello\n"
     ]
    }
   ],
   "source": [
    "for looper in [1,2,3,4,5]:\n",
    "    print(\"hello\")"
   ]
  },
  {
   "cell_type": "code",
   "execution_count": 7,
   "metadata": {},
   "outputs": [
    {
     "name": "stdout",
     "output_type": "stream",
     "text": [
      "1\n",
      "2\n",
      "3\n",
      "4\n",
      "5\n"
     ]
    }
   ],
   "source": [
    "for looper in [1,2,3,4,5]:\n",
    "    print(looper)"
   ]
  },
  {
   "cell_type": "markdown",
   "metadata": {},
   "source": [
    "# Range()"
   ]
  },
  {
   "cell_type": "code",
   "execution_count": 9,
   "metadata": {},
   "outputs": [
    {
     "name": "stdout",
     "output_type": "stream",
     "text": [
      "hello\n",
      "hello\n",
      "hello\n",
      "hello\n",
      "hello\n"
     ]
    }
   ],
   "source": [
    "for looper in range(0,5):\n",
    "    print(\"hello\")         #마지막숫자는 버린다"
   ]
  },
  {
   "cell_type": "code",
   "execution_count": 13,
   "metadata": {},
   "outputs": [
    {
     "name": "stdout",
     "output_type": "stream",
     "text": [
      "0\n",
      "1\n",
      "2\n",
      "3\n",
      "4\n"
     ]
    }
   ],
   "source": [
    "for i in range(5):\n",
    "    print(i)"
   ]
  },
  {
   "cell_type": "code",
   "execution_count": 15,
   "metadata": {},
   "outputs": [
    {
     "name": "stdout",
     "output_type": "stream",
     "text": [
      "a\n",
      "b\n",
      "c\n",
      "d\n",
      "e\n",
      "f\n",
      "g\n"
     ]
    }
   ],
   "source": [
    "for i in 'abcdefg':\n",
    "    print(i)"
   ]
  },
  {
   "cell_type": "code",
   "execution_count": 17,
   "metadata": {},
   "outputs": [
    {
     "name": "stdout",
     "output_type": "stream",
     "text": [
      "Americano\n",
      "Latte\n",
      "Frafuchino\n"
     ]
    }
   ],
   "source": [
    "for i in ['Americano','Latte','Frafuchino']:\n",
    "          print(i)"
   ]
  },
  {
   "cell_type": "code",
   "execution_count": 18,
   "metadata": {},
   "outputs": [
    {
     "name": "stdout",
     "output_type": "stream",
     "text": [
      "1\n",
      "3\n",
      "5\n",
      "7\n",
      "9\n"
     ]
    }
   ],
   "source": [
    "for i in range(1, 10, 2):\n",
    "    #1부터 10까지 2씩 증가\n",
    "    print(i)"
   ]
  },
  {
   "cell_type": "code",
   "execution_count": 19,
   "metadata": {},
   "outputs": [
    {
     "name": "stdout",
     "output_type": "stream",
     "text": [
      "10\n",
      "9\n",
      "8\n",
      "7\n",
      "6\n",
      "5\n",
      "4\n",
      "3\n",
      "2\n"
     ]
    }
   ],
   "source": [
    "for i in range(10,1,-1):\n",
    "    print(i)"
   ]
  },
  {
   "cell_type": "markdown",
   "metadata": {},
   "source": [
    "# While 문"
   ]
  },
  {
   "cell_type": "code",
   "execution_count": 20,
   "metadata": {},
   "outputs": [
    {
     "name": "stdout",
     "output_type": "stream",
     "text": [
      "1\n",
      "2\n",
      "3\n",
      "4\n",
      "5\n",
      "6\n",
      "7\n",
      "8\n",
      "9\n"
     ]
    }
   ],
   "source": [
    "i = 1\n",
    "while i < 10:\n",
    "    print(i)\n",
    "    i += 1\n",
    "\n",
    "    #반복 실행 횟수가 명확하지 않을때"
   ]
  },
  {
   "cell_type": "markdown",
   "metadata": {},
   "source": [
    "# 반복의 제어 - break, continue"
   ]
  },
  {
   "cell_type": "code",
   "execution_count": 21,
   "metadata": {},
   "outputs": [
    {
     "name": "stdout",
     "output_type": "stream",
     "text": [
      "0\n",
      "1\n",
      "2\n",
      "3\n",
      "4\n",
      "EOP\n"
     ]
    }
   ],
   "source": [
    "for i in range(10):\n",
    "    if i == 5:break\n",
    "    print(i)\n",
    "print(\"EOP\")"
   ]
  },
  {
   "cell_type": "code",
   "execution_count": 22,
   "metadata": {
    "scrolled": true
   },
   "outputs": [
    {
     "name": "stdout",
     "output_type": "stream",
     "text": [
      "0\n",
      "1\n",
      "2\n",
      "3\n",
      "4\n",
      "6\n",
      "7\n",
      "8\n",
      "9\n",
      "EOP\n"
     ]
    }
   ],
   "source": [
    "for i in range(10):\n",
    "    if i == 5:continue\n",
    "    print(i)\n",
    "print(\"EOP\")\n",
    "\n",
    "#5제외 후 지속 실행"
   ]
  },
  {
   "cell_type": "code",
   "execution_count": 24,
   "metadata": {
    "scrolled": true
   },
   "outputs": [
    {
     "name": "stdout",
     "output_type": "stream",
     "text": [
      "0\n",
      "1\n",
      "2\n",
      "3\n",
      "4\n",
      "5\n",
      "6\n",
      "7\n",
      "8\n",
      "9\n",
      "EOP\n"
     ]
    }
   ],
   "source": [
    "for i in range(10):\n",
    "    print(i)\n",
    "else:\n",
    "    print(\"EOP\")"
   ]
  },
  {
   "cell_type": "markdown",
   "metadata": {},
   "source": [
    "# Lab: 구구단 계산기 #1"
   ]
  },
  {
   "cell_type": "code",
   "execution_count": 28,
   "metadata": {},
   "outputs": [
    {
     "name": "stdout",
     "output_type": "stream",
     "text": [
      "구구단 몇단을 계산 할까요?\n",
      "5\n",
      "구구단5단을 계산 합니다\n",
      "5 X 1 = 5\n",
      "5 X 2 = 10\n",
      "5 X 3 = 15\n",
      "5 X 4 = 20\n",
      "5 X 5 = 25\n",
      "5 X 6 = 30\n",
      "5 X 7 = 35\n",
      "5 X 8 = 40\n",
      "5 X 9 = 45\n"
     ]
    }
   ],
   "source": [
    "print(\"구구단 몇단을 계산 할까요?\")\n",
    "\n",
    "user_input = input()       #string type\n",
    "print(\"구구단\" + user_input + \"단을 계산 합니다\")\n",
    "int_input = int(user_input)\n",
    "\n",
    "for i in range(1, 10):\n",
    "    result = int_input * i\n",
    "    print(user_input, \"X\", i, \"=\", result)"
   ]
  },
  {
   "cell_type": "markdown",
   "metadata": {},
   "source": [
    "# Loop Review"
   ]
  },
  {
   "cell_type": "code",
   "execution_count": 32,
   "metadata": {},
   "outputs": [
    {
     "name": "stdout",
     "output_type": "stream",
     "text": [
      "I === \n",
      "I\n",
      "  === I\n",
      " I\n",
      "l ===  I\n",
      "l I\n",
      "o === l I\n",
      "ol I\n",
      "v === ol I\n",
      "vol I\n",
      "e === vol I\n",
      "evol I\n",
      "  === evol I\n",
      " evol I\n",
      "y ===  evol I\n",
      "y evol I\n",
      "o === y evol I\n",
      "oy evol I\n",
      "u === oy evol I\n",
      "uoy evol I\n",
      "uoy evol I\n"
     ]
    }
   ],
   "source": [
    "sentence = \"I love you\"\n",
    "reverse_sentence = ''\n",
    "for char in sentence:\n",
    "    print(char,\"===\", reverse_sentence)\n",
    "    reverse_sentence = char + reverse_sentence\n",
    "    print(reverse_sentence)\n",
    "print(reverse_sentence)"
   ]
  },
  {
   "cell_type": "markdown",
   "metadata": {},
   "source": [
    "# 10진수->2진수"
   ]
  },
  {
   "cell_type": "code",
   "execution_count": 41,
   "metadata": {
    "scrolled": true
   },
   "outputs": [
    {
     "name": "stdout",
     "output_type": "stream",
     "text": [
      "1010\n"
     ]
    }
   ],
   "source": [
    "decimal = 10\n",
    "result = ''\n",
    "while(decimal > 0):\n",
    "    remainder = (decimal % 2)\n",
    "    decimal = (decimal // 2)     #// 목 나눗셈(return = int)\n",
    "    result = str(remainder) + result\n",
    "print(result)"
   ]
  },
  {
   "cell_type": "code",
   "execution_count": null,
   "metadata": {},
   "outputs": [],
   "source": []
  },
  {
   "cell_type": "code",
   "execution_count": null,
   "metadata": {},
   "outputs": [],
   "source": []
  },
  {
   "cell_type": "code",
   "execution_count": null,
   "metadata": {},
   "outputs": [],
   "source": []
  },
  {
   "cell_type": "code",
   "execution_count": null,
   "metadata": {},
   "outputs": [],
   "source": []
  }
 ],
 "metadata": {
  "kernelspec": {
   "display_name": "Python 3",
   "language": "python",
   "name": "python3"
  },
  "language_info": {
   "codemirror_mode": {
    "name": "ipython",
    "version": 3
   },
   "file_extension": ".py",
   "mimetype": "text/x-python",
   "name": "python",
   "nbconvert_exporter": "python",
   "pygments_lexer": "ipython3",
   "version": "3.6.5"
  }
 },
 "nbformat": 4,
 "nbformat_minor": 2
}
