{
 "cells": [
  {
   "cell_type": "markdown",
   "metadata": {},
   "source": [
    "# 객체 지향 프로그래밍"
   ]
  },
  {
   "cell_type": "markdown",
   "metadata": {},
   "source": [
    "## 클래스/객체\n",
    "\n",
    "### 객체: 속성(Attribute) 와 행동(Action)을 가짐\n",
    "### 속성: variable /  행동: function"
   ]
  },
  {
   "cell_type": "code",
   "execution_count": 4,
   "metadata": {},
   "outputs": [
    {
     "name": "stdout",
     "output_type": "stream",
     "text": [
      "Hello , My name is Jinho. I play in MF in center\n",
      "현재 선수의 등번호는 : 10\n",
      "선수의 등번호를 변경합니다 : From 10 to 7\n",
      "현재 선수의 등번호는 : 7\n"
     ]
    }
   ],
   "source": [
    "#object in python\n",
    "\n",
    "class SoccerPlayer(object):     #class 선언 (예약어 + 이름 + 상속받는 객체명)\n",
    "    def __init__(self, name, position, back_number):       #객체 초기화 예약함수\n",
    "        self.name = name\n",
    "        self.position = position\n",
    "        self.back_number = back_number\n",
    "        \n",
    "    def change_back_number(self, new_number):\n",
    "        print(\"선수의 등번호를 변경합니다 : From %d to %d\" % (\n",
    "                                self.back_number, new_number))\n",
    "        self.back_number = new_number\n",
    "    \n",
    "    def __str__(self):        #__str__함수는 반드시 \"STR\" 타입으로 지정해야한다\n",
    "        return \"Hello , My name is %s. I play in %s in center\" % (\n",
    "                                self.name, self.position)\n",
    "    \n",
    "Jinho = SoccerPlayer(\"Jinho\", \"MF\", 10)        #self = Jinho\n",
    "print(Jinho)\n",
    "\n",
    "print(\"현재 선수의 등번호는 :\", Jinho.back_number)\n",
    "Jinho.change_back_number(7)\n",
    "print(\"현재 선수의 등번호는 :\", Jinho.back_number)"
   ]
  },
  {
   "cell_type": "markdown",
   "metadata": {},
   "source": [
    "# OOP 만들기 - 문서파일"
   ]
  },
  {
   "cell_type": "code",
   "execution_count": 5,
   "metadata": {},
   "outputs": [],
   "source": [
    "class Note(object):\n",
    "    def __init__(self, content = None):\n",
    "        self.content = content\n",
    "        \n",
    "    def write_content(self, content):\n",
    "        self.content = content\n",
    "    \n",
    "    def remove_all(self):\n",
    "        self.content = \"\"\n",
    "        \n",
    "    def __str__(self):\n",
    "        return self.content\n",
    "    \n",
    "    \n",
    "#-------------------------------------------------------------------------------    \n",
    "\n",
    "\n",
    "class NoteBook(object):\n",
    "    def __init__(self,title):\n",
    "        self.title = title\n",
    "        self.page_number = 1\n",
    "        self.note = {}\n",
    "        \n",
    "    def add_note(self, note, page = 0):\n",
    "        if self.page_number < 300:\n",
    "            if page == 0:\n",
    "                self.notes[self.page_number] = note\n",
    "                self.page_number += 1\n",
    "            else:\n",
    "                self.notes = {page : note}\n",
    "                self.page_number += 1\n",
    "        else:\n",
    "            print(\"Page 가 모두 채워졌습니다.\")\n",
    "    \n",
    "    def remove_note(self, page_number):\n",
    "        if page_number in self.notes.keys():\n",
    "            return self.notes.pop(page_number)\n",
    "        else:\n",
    "            print(\"해당 페이지는 존재하지 않습니다.\")\n",
    "            \n",
    "    def get_number_of_pages(self):\n",
    "        return(len(self.notes.keys()))"
   ]
  },
  {
   "cell_type": "markdown",
   "metadata": {},
   "source": [
    "## 상속(inheritance)"
   ]
  },
  {
   "cell_type": "code",
   "execution_count": 10,
   "metadata": {},
   "outputs": [
    {
     "name": "stdout",
     "output_type": "stream",
     "text": [
      "Jinho\n"
     ]
    }
   ],
   "source": [
    "class Person(object): #부모 클래스\n",
    "    def __init__(self, name, age):\n",
    "        self.name = name\n",
    "        self.age = age\n",
    "        \n",
    "class Korean(Person): #자식 클래스\n",
    "    pass\n",
    "\n",
    "first_korean = Korean(\"Jinho\", 25)\n",
    "print(first_korean.name)"
   ]
  },
  {
   "cell_type": "code",
   "execution_count": 12,
   "metadata": {},
   "outputs": [],
   "source": [
    "class Person(object):       #부모 class 선언\n",
    "    def __init__(self, name, age, gender):\n",
    "        self.name = name\n",
    "        self.age = age\n",
    "        self.gender = gender\n",
    "        \n",
    "    def about_me(self):     #메서드 선언\n",
    "        print(\"저의 이름은\", self.name, \"이구요, 제 나이는\", str(self.age), \"살 입니다.\" )\n",
    "\n",
    "\n",
    "class Employee(Person):\n",
    "    def __init__(self, name, age, gender, salary, hire_date):\n",
    "        super().__init__(name, age, gender)\n",
    "        self.salary = salary\n",
    "        self.hire_date = hire_date\n",
    "        \n",
    "    def do_work(self):\n",
    "        print(\"열심히 일을 합니다.\")\n",
    "        \n",
    "    def about_me(self):\n",
    "        super().about_me()\n",
    "        print(\"제 급여는\", self.salary, \"원 이구요, 제 입사일은\", self.hire_date,\"입니다.\")"
   ]
  },
  {
   "cell_type": "code",
   "execution_count": 13,
   "metadata": {},
   "outputs": [],
   "source": [
    "myPerson = Person(\"John\", 34, \"Male\")"
   ]
  },
  {
   "cell_type": "code",
   "execution_count": 14,
   "metadata": {},
   "outputs": [
    {
     "name": "stdout",
     "output_type": "stream",
     "text": [
      "저의 이름은 John 이구요, 제 나이는 34 살 입니다.\n"
     ]
    }
   ],
   "source": [
    "myPerson.about_me()"
   ]
  },
  {
   "cell_type": "code",
   "execution_count": 16,
   "metadata": {},
   "outputs": [],
   "source": [
    "myEmployee = Employee(\"Jinho\", 25, \"Male\", 30000, \"2019/01/01\")"
   ]
  },
  {
   "cell_type": "code",
   "execution_count": 17,
   "metadata": {},
   "outputs": [
    {
     "name": "stdout",
     "output_type": "stream",
     "text": [
      "저의 이름은 Jinho 이구요, 제 나이는 25 살 입니다.\n",
      "제 급여는 30000 원 이구요, 제 입사일은 2019/01/01 입니다.\n"
     ]
    }
   ],
   "source": [
    "myEmployee.about_me()"
   ]
  },
  {
   "cell_type": "code",
   "execution_count": 19,
   "metadata": {},
   "outputs": [
    {
     "name": "stdout",
     "output_type": "stream",
     "text": [
      "열심히 일을 합니다.\n"
     ]
    }
   ],
   "source": [
    "myEmployee.do_work()"
   ]
  },
  {
   "cell_type": "markdown",
   "metadata": {},
   "source": [
    "## 다형성(Polymorphism)\n",
    "\n",
    "### 같은 이름 메소드의 내부 로직을 다르게 작성"
   ]
  },
  {
   "cell_type": "code",
   "execution_count": 20,
   "metadata": {},
   "outputs": [
    {
     "name": "stdout",
     "output_type": "stream",
     "text": [
      "Missy: Meow!\n",
      "Mr.mistoffelees: Meow!\n",
      "Lassie: Woof! Woof!\n"
     ]
    }
   ],
   "source": [
    "class Animal:\n",
    "    def __init__(self, name):\n",
    "        self.name = name\n",
    "        \n",
    "    def talk(self):\n",
    "        raise NotImplementedError(\"Subclass must implement abstract method\")\n",
    "        \n",
    "class Cat(Animal):\n",
    "    def talk(self):\n",
    "        return \"Meow!\"\n",
    "    \n",
    "class Dog(Animal):\n",
    "    def talk(self):\n",
    "        return \"Woof! Woof!\"\n",
    "    \n",
    "animals = [Cat('Missy'),\n",
    "           Cat('Mr.mistoffelees'),\n",
    "           Dog('Lassie')]\n",
    "\n",
    "for animal in animals:\n",
    "    print(animal.name + ': ' + animal.talk() )"
   ]
  },
  {
   "cell_type": "code",
   "execution_count": null,
   "metadata": {},
   "outputs": [],
   "source": []
  },
  {
   "cell_type": "code",
   "execution_count": null,
   "metadata": {},
   "outputs": [],
   "source": []
  },
  {
   "cell_type": "code",
   "execution_count": null,
   "metadata": {},
   "outputs": [],
   "source": []
  },
  {
   "cell_type": "code",
   "execution_count": null,
   "metadata": {},
   "outputs": [],
   "source": []
  },
  {
   "cell_type": "code",
   "execution_count": null,
   "metadata": {},
   "outputs": [],
   "source": []
  },
  {
   "cell_type": "code",
   "execution_count": null,
   "metadata": {},
   "outputs": [],
   "source": []
  },
  {
   "cell_type": "code",
   "execution_count": null,
   "metadata": {},
   "outputs": [],
   "source": []
  },
  {
   "cell_type": "code",
   "execution_count": null,
   "metadata": {},
   "outputs": [],
   "source": []
  }
 ],
 "metadata": {
  "kernelspec": {
   "display_name": "Python 3",
   "language": "python",
   "name": "python3"
  },
  "language_info": {
   "codemirror_mode": {
    "name": "ipython",
    "version": 3
   },
   "file_extension": ".py",
   "mimetype": "text/x-python",
   "name": "python",
   "nbconvert_exporter": "python",
   "pygments_lexer": "ipython3",
   "version": "3.6.5"
  }
 },
 "nbformat": 4,
 "nbformat_minor": 2
}
