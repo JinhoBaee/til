{
 "cells": [
  {
   "cell_type": "markdown",
   "metadata": {},
   "source": [
    "# function guideline\n",
    "\n",
    "### 함수는 가능하면 짧게 작성\n",
    "\n",
    "### 함수 이름에 함수의 역할, 의도가 명확히 드러날 것"
   ]
  },
  {
   "cell_type": "code",
   "execution_count": 2,
   "metadata": {},
   "outputs": [],
   "source": [
    "def add_variable(x,y):\n",
    "    return x + y"
   ]
  },
  {
   "cell_type": "code",
   "execution_count": 4,
   "metadata": {},
   "outputs": [
    {
     "ename": "SyntaxError",
     "evalue": "Missing parentheses in call to 'print'. Did you mean print(\"Hello world\")? (<ipython-input-4-f5e84875fc22>, line 2)",
     "output_type": "error",
     "traceback": [
      "\u001b[1;36m  File \u001b[1;32m\"<ipython-input-4-f5e84875fc22>\"\u001b[1;36m, line \u001b[1;32m2\u001b[0m\n\u001b[1;33m    print \"Hello world\"\u001b[0m\n\u001b[1;37m                      ^\u001b[0m\n\u001b[1;31mSyntaxError\u001b[0m\u001b[1;31m:\u001b[0m Missing parentheses in call to 'print'. Did you mean print(\"Hello world\")?\n"
     ]
    }
   ],
   "source": [
    "def print_hello():\n",
    "    print \"Hello world\"\n",
    "    print \"Hello Seoul\"\n",
    "    \n",
    "a = 5\n",
    "\n",
    "if (a > 3):\n",
    "    print_hello(\"Hello world\")\n",
    "\n",
    "if (a > 4):\n",
    "    print_hello(\"Hello Seoul\")\n",
    "    \n",
    "if (a > 5):\n",
    "    print_hello(\"Hello world\")\n",
    "    "
   ]
  },
  {
   "cell_type": "code",
   "execution_count": 6,
   "metadata": {},
   "outputs": [
    {
     "name": "stdout",
     "output_type": "stream",
     "text": [
      "[1.7071067811865475]\n"
     ]
    }
   ],
   "source": [
    "import math\n",
    "\n",
    "def get_result_quadratic_equation(a, b, c):\n",
    "    values = []\n",
    "    values.append((-b + math.sqrt(b**2 - (4 * a * c))) / (2 * a))\n",
    "    return values\n",
    "print(get_result_quadratic_equation(2,-4,1))"
   ]
  },
  {
   "cell_type": "code",
   "execution_count": 7,
   "metadata": {},
   "outputs": [
    {
     "name": "stdout",
     "output_type": "stream",
     "text": [
      "Before: 10\n",
      "In Function: 20\n",
      "After: 10\n"
     ]
    }
   ],
   "source": [
    "def test(t):\n",
    "    t = 20\n",
    "    print(\"In Function:\", t)\n",
    "    \n",
    "x = 10\n",
    "print(\"Before:\", x)\n",
    "test(x)\n",
    "print(\"After:\", x)"
   ]
  },
  {
   "cell_type": "code",
   "execution_count": 16,
   "metadata": {
    "scrolled": true
   },
   "outputs": [
    {
     "name": "stdout",
     "output_type": "stream",
     "text": [
      "22\n"
     ]
    }
   ],
   "source": [
    "a = 0\n",
    "midterm_set = set([1,5,7,4,3,2,1,1,2,3])\n",
    "\n",
    "for i in midterm_set:\n",
    "    a = a + i\n",
    "print(a)"
   ]
  },
  {
   "cell_type": "code",
   "execution_count": 12,
   "metadata": {},
   "outputs": [
    {
     "name": "stdout",
     "output_type": "stream",
     "text": [
      "['green', 'blue']\n"
     ]
    }
   ],
   "source": [
    "def rain(colors):\n",
    "    colors.append(\"purple\")\n",
    "    colors = [\"green\", \"blue\"]\n",
    "    return colors\n",
    "\n",
    "rainbow = [\"red\", \"orange\"]\n",
    "print(rain(rainbow))"
   ]
  },
  {
   "cell_type": "markdown",
   "metadata": {},
   "source": [
    "# 과제  : 섭씨온도를 화씨온도로 바꾸어주는 프로그래밍"
   ]
  },
  {
   "cell_type": "code",
   "execution_count": 38,
   "metadata": {},
   "outputs": [
    {
     "name": "stdout",
     "output_type": "stream",
     "text": [
      "본 프로그램은 섭씨를 화씨로로 변환해주는 프로그램입니다\n",
      "============================\n",
      "변환하고 싶은 섭씨 온도를 입력해주세요: 32.2\n",
      "섭씨온도:  32.2\n",
      "화씨온도:  89.96000000000001\n",
      "===========================\n",
      "프로그램이 종료 되었습니다.\n"
     ]
    }
   ],
   "source": [
    "#입력 함수\n",
    "def input_celsius_value():        \n",
    "    user_input = input(\"변환하고 싶은 섭씨 온도를 입력해주세요: \")\n",
    "    celsius_value = float(user_input)\n",
    "    return celsius_value\n",
    "\n",
    "\n",
    "#온도 변환 함수(섭씨->화씨)\n",
    "def convert_celsius_fahrenheit(celsius_value):\n",
    "    fahrenheit_value = ((9 / 5) * float(celsius_value)) + 32\n",
    "    return fahrenheit_value\n",
    "\n",
    "\n",
    "#출력 함수\n",
    "def print_fahrenheit_value(celsius_value, fahrenheit_value):\n",
    "    print(\"섭씨온도: \",celsius_value)\n",
    "    print(\"화씨온도: \",fahrenheit_value)\n",
    "    return\n",
    "  \n",
    "    \n",
    "#메인 함수\n",
    "def main():\n",
    "    print(\"본 프로그램은 섭씨를 화씨로로 변환해주는 프로그램입니다\")\n",
    "    print(\"============================\")\n",
    "    # ===Modify codes below=================\n",
    "    celsius_value = input_celsius_value()\n",
    "    fahrenheit_value = convert_celsius_fahrenheit(celsius_value)\n",
    "    print_fahrenheit_value(celsius_value, fahrenheit_value)\n",
    "    # ======================================\n",
    "    print(\"===========================\")\n",
    "    print(\"프로그램이 종료 되었습니다.\")\n",
    "\n",
    "\n",
    "if __name__ == '__main__':\n",
    "    main()\n"
   ]
  },
  {
   "cell_type": "code",
   "execution_count": null,
   "metadata": {},
   "outputs": [],
   "source": []
  }
 ],
 "metadata": {
  "kernelspec": {
   "display_name": "Python 3",
   "language": "python",
   "name": "python3"
  },
  "language_info": {
   "codemirror_mode": {
    "name": "ipython",
    "version": 3
   },
   "file_extension": ".py",
   "mimetype": "text/x-python",
   "name": "python",
   "nbconvert_exporter": "python",
   "pygments_lexer": "ipython3",
   "version": "3.6.5"
  }
 },
 "nbformat": 4,
 "nbformat_minor": 2
}
