{
 "cells": [
  {
   "cell_type": "code",
   "execution_count": 2,
   "metadata": {},
   "outputs": [
    {
     "name": "stdout",
     "output_type": "stream",
     "text": [
      "x 사각형의 길이:  10\n",
      "y 사각형의 길이:  30\n",
      "사각형의 넓이:  300\n"
     ]
    }
   ],
   "source": [
    "def calculate_rectangle_area(x,y):\n",
    "    return x*y\n",
    "\n",
    "rectangle_x = 10\n",
    "rectangle_y = 30\n",
    "\n",
    "print(\"x 사각형의 길이: \", rectangle_x)\n",
    "print(\"y 사각형의 길이: \", rectangle_y)\n",
    "\n",
    "print(\"사각형의 넓이: \",calculate_rectangle_area(rectangle_x, rectangle_y))"
   ]
  },
  {
   "cell_type": "code",
   "execution_count": null,
   "metadata": {},
   "outputs": [],
   "source": [
    "def factorial(n):\n",
    "    if n == 1:\n",
    "        return 1\n",
    "    else:\n",
    "        return n * factorial(n - 1)\n",
    "    \n",
    "print(factorial(int(input(\"숫자를 입력하세요\"))))"
   ]
  },
  {
   "cell_type": "code",
   "execution_count": 2,
   "metadata": {},
   "outputs": [
    {
     "name": "stdout",
     "output_type": "stream",
     "text": [
      "1부터 100 사이의 숫자를 입력하세요\n",
      "5\n",
      "숫자가 너무 작습니다.\n",
      "15\n",
      "숫자가 너무 작습니다.\n",
      "20\n",
      "숫자가 너무 작습니다.\n",
      "50\n",
      "숫자가 너무 큽니다.\n",
      "30\n",
      "정답입니다. 입력하신 숫자는 30 입니다.\n"
     ]
    }
   ],
   "source": [
    "import random\n",
    "guess_number = random.randint(1,100)\n",
    "print(\"1부터 100 사이의 숫자를 입력하세요\")\n",
    "user_input = int(input())\n",
    "\n",
    "while (user_input != guess_number):\n",
    "    if user_input > guess_number:\n",
    "        print(\"숫자가 너무 큽니다.\")\n",
    "    else:\n",
    "        print(\"숫자가 너무 작습니다.\")\n",
    "    user_input = int(input())\n",
    "print(\"정답입니다.\", \"입력하신 숫자는\", user_input, \"입니다.\")"
   ]
  },
  {
   "cell_type": "code",
   "execution_count": null,
   "metadata": {},
   "outputs": [
    {
     "name": "stdout",
     "output_type": "stream",
     "text": [
      "구구단 몇단을 계산할까요?\n",
      "5\n",
      "구구단5단을 계산합니다.\n",
      "5X1=5\n",
      "5X2=10\n",
      "5X3=15\n",
      "5X4=20\n",
      "5X5=25\n",
      "5X6=30\n",
      "5X7=35\n",
      "5X8=40\n",
      "5X9=45\n",
      "구구단 몇단을 계산할까요?\n"
     ]
    }
   ],
   "source": [
    "print(\"구구단 몇단을 계산할까요?\")\n",
    "x = 1\n",
    "while (x is not 0):\n",
    "    x = int(input())\n",
    "    if x == 0:break\n",
    "    if not(1 <= x <= 9):\n",
    "        print(\"잘못 입력하셨습니다. 1~9의 숫자를 입력하세요.\")\n",
    "        continue\n",
    "    else:\n",
    "        print(\"구구단\" + str(x) + \"단을 계산합니다.\")\n",
    "        for i in range(1,10):\n",
    "            print(str(x) + \"X\" + str(i) + \"=\" + str(x*i))\n",
    "        print(\"구구단 몇단을 계산할까요?\")\n",
    "print(\"구구단 프로그램을 종료합니다.\") "
   ]
  },
  {
   "cell_type": "code",
   "execution_count": null,
   "metadata": {},
   "outputs": [],
   "source": []
  },
  {
   "cell_type": "code",
   "execution_count": null,
   "metadata": {},
   "outputs": [],
   "source": []
  }
 ],
 "metadata": {
  "kernelspec": {
   "display_name": "Python 3",
   "language": "python",
   "name": "python3"
  },
  "language_info": {
   "codemirror_mode": {
    "name": "ipython",
    "version": 3
   },
   "file_extension": ".py",
   "mimetype": "text/x-python",
   "name": "python",
   "nbconvert_exporter": "python",
   "pygments_lexer": "ipython3",
   "version": "3.6.5"
  }
 },
 "nbformat": 4,
 "nbformat_minor": 2
}
