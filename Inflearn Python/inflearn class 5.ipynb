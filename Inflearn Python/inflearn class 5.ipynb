{
 "cells": [
  {
   "cell_type": "markdown",
   "metadata": {},
   "source": [
    "# 숫자 찾기 게임\n",
    "\n",
    "## 1~100  임의의 숫자를 맞추시오"
   ]
  },
  {
   "cell_type": "code",
   "execution_count": 1,
   "metadata": {},
   "outputs": [
    {
     "name": "stdout",
     "output_type": "stream",
     "text": [
      "31\n",
      "숫자를 입력하십시오24\n",
      "숫자가 작습니다.\n",
      "숫자를 입력해주세요.54\n",
      "숫자가 큽니다.\n",
      "숫자를 입력해주세요.31\n",
      "정답입니다.\n"
     ]
    }
   ],
   "source": [
    "import random\n",
    "guess_number = random.randint(1,100)\n",
    "print(guess_number)\n",
    "\n",
    "user_input = int(input(\"숫자를 입력하십시오\"))\n",
    "while (user_input != guess_number):\n",
    "    if user_input > guess_number:\n",
    "        print(\"숫자가 큽니다.\")\n",
    "    else:\n",
    "        print(\"숫자가 작습니다.\")\n",
    "    user_input = int(input(\"숫자를 입력해주세요.\"))\n",
    "print(\"정답입니다.\")"
   ]
  },
  {
   "cell_type": "markdown",
   "metadata": {},
   "source": [
    "# 연속적인 구구단 입력\n",
    "\n",
    "## 1~9 입력받아 구구단을 출력, 0 입력시 종료"
   ]
  },
  {
   "cell_type": "code",
   "execution_count": null,
   "metadata": {},
   "outputs": [],
   "source": [
    "print(\"구구단 몇 단을 계산할까요?\")\n",
    "x = 1\n",
    "while (x is not 0):\n",
    "    x = int(input())\n",
    "    if x == 0:break\n",
    "    if not(1 <= x <= 9)\n",
    "        print(\"잘못 입력하셨습니다. 1 부터 9 사이의 수를 입력해주세요.\")\n",
    "        continue\n",
    "    else:\n",
    "        print(\"구구단\" + str(x) + \"단을 계산합니다.\")\n",
    "        for i in range(1,10)\n",
    "            print(str(x) + \"x\" + str(i) + \"=\" + str(x*i))\n",
    "        print(\"구구단 몇 단을 계산할까요?\")\n",
    "print(\"구구단 게임을 종료합니다.\")"
   ]
  },
  {
   "cell_type": "code",
   "execution_count": null,
   "metadata": {},
   "outputs": [],
   "source": []
  }
 ],
 "metadata": {
  "kernelspec": {
   "display_name": "Python 3",
   "language": "python",
   "name": "python3"
  },
  "language_info": {
   "codemirror_mode": {
    "name": "ipython",
    "version": 3
   },
   "file_extension": ".py",
   "mimetype": "text/x-python",
   "name": "python",
   "nbconvert_exporter": "python",
   "pygments_lexer": "ipython3",
   "version": "3.6.5"
  }
 },
 "nbformat": 4,
 "nbformat_minor": 2
}
