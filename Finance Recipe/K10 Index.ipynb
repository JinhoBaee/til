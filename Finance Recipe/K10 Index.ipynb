{
 "cells": [
  {
   "cell_type": "code",
   "execution_count": 39,
   "metadata": {},
   "outputs": [],
   "source": [
    "import bs4\n",
    "from urllib.request import urlopen"
   ]
  },
  {
   "cell_type": "code",
   "execution_count": 40,
   "metadata": {},
   "outputs": [
    {
     "data": {
      "text/plain": [
       "'http://companyinfo.stock.naver.com/v1/company/c1010001.aspx?cmp_cd=005930'"
      ]
     },
     "execution_count": 40,
     "metadata": {},
     "output_type": "execute_result"
    }
   ],
   "source": [
    "url_float = 'http://companyinfo.stock.naver.com/v1/company/c1010001.aspx?cmp_cd=005930'\n",
    "url_float"
   ]
  },
  {
   "cell_type": "code",
   "execution_count": 41,
   "metadata": {},
   "outputs": [],
   "source": [
    "source = urlopen(url_float).read()\n",
    "soup = bs4.BeautifulSoup(source,'lxml')"
   ]
  },
  {
   "cell_type": "code",
   "execution_count": 42,
   "metadata": {},
   "outputs": [],
   "source": [
    "#//*[@id=\"cTB11\"]/tbody/tr[7]/td"
   ]
  },
  {
   "cell_type": "code",
   "execution_count": 43,
   "metadata": {},
   "outputs": [
    {
     "data": {
      "text/plain": [
       "'\\r\\n\\t\\t\\t\\t\\t\\t\\t\\t\\t\\t\\t\\t\\t\\t\\t5,969,782,550주 / 78.79%\\r\\n\\t\\t\\t\\t\\t\\t\\t\\t\\t\\t\\t\\t\\t\\t'"
      ]
     },
     "execution_count": 43,
     "metadata": {},
     "output_type": "execute_result"
    }
   ],
   "source": [
    "soup.find(id = 'cTB11').find_all('tr')[6].td.text"
   ]
  },
  {
   "cell_type": "code",
   "execution_count": 44,
   "metadata": {},
   "outputs": [
    {
     "data": {
      "text/plain": [
       "'5,969,782,550주 / 78.79%'"
      ]
     },
     "execution_count": 44,
     "metadata": {},
     "output_type": "execute_result"
    }
   ],
   "source": [
    "tmp = soup.find(id = 'cTB11').find_all('tr')[6].td.text\n",
    "tmp = tmp.replace('\\r','')\n",
    "tmp = tmp.replace('\\n','')\n",
    "tmp = tmp.replace('\\t','')\n",
    "tmp"
   ]
  },
  {
   "cell_type": "code",
   "execution_count": 45,
   "metadata": {},
   "outputs": [],
   "source": [
    "import re"
   ]
  },
  {
   "cell_type": "code",
   "execution_count": 46,
   "metadata": {},
   "outputs": [
    {
     "data": {
      "text/plain": [
       "['5,969,782,550주 ', ' 78.79%']"
      ]
     },
     "execution_count": 46,
     "metadata": {},
     "output_type": "execute_result"
    }
   ],
   "source": [
    "tmp = re.split('/', tmp)\n",
    "tmp"
   ]
  },
  {
   "cell_type": "code",
   "execution_count": 47,
   "metadata": {},
   "outputs": [
    {
     "data": {
      "text/plain": [
       "' 78.79%'"
      ]
     },
     "execution_count": 47,
     "metadata": {},
     "output_type": "execute_result"
    }
   ],
   "source": [
    "tmp[1]"
   ]
  },
  {
   "cell_type": "code",
   "execution_count": 48,
   "metadata": {},
   "outputs": [
    {
     "data": {
      "text/plain": [
       "'5,969,782,550주 '"
      ]
     },
     "execution_count": 48,
     "metadata": {},
     "output_type": "execute_result"
    }
   ],
   "source": [
    "tmp[0]"
   ]
  },
  {
   "cell_type": "code",
   "execution_count": 49,
   "metadata": {},
   "outputs": [
    {
     "data": {
      "text/plain": [
       "'5969782550'"
      ]
     },
     "execution_count": 49,
     "metadata": {},
     "output_type": "execute_result"
    }
   ],
   "source": [
    "outstanding = tmp[0].replace(',', '')\n",
    "outstanding = outstanding.replace('주','')\n",
    "outstanding = outstanding.replace(' ','')\n",
    "outstanding"
   ]
  },
  {
   "cell_type": "code",
   "execution_count": 50,
   "metadata": {},
   "outputs": [
    {
     "data": {
      "text/plain": [
       "'78.79'"
      ]
     },
     "execution_count": 50,
     "metadata": {},
     "output_type": "execute_result"
    }
   ],
   "source": [
    "floating = tmp[1].replace(' ','')\n",
    "floating = floating.replace('%','')\n",
    "floating"
   ]
  },
  {
   "cell_type": "code",
   "execution_count": 51,
   "metadata": {},
   "outputs": [
    {
     "data": {
      "text/plain": [
       "5969782550"
      ]
     },
     "execution_count": 51,
     "metadata": {},
     "output_type": "execute_result"
    }
   ],
   "source": [
    "outstanding = int(outstanding)\n",
    "outstanding"
   ]
  },
  {
   "cell_type": "code",
   "execution_count": 52,
   "metadata": {},
   "outputs": [
    {
     "data": {
      "text/plain": [
       "int"
      ]
     },
     "execution_count": 52,
     "metadata": {},
     "output_type": "execute_result"
    }
   ],
   "source": [
    "type(outstanding)"
   ]
  },
  {
   "cell_type": "code",
   "execution_count": 53,
   "metadata": {},
   "outputs": [
    {
     "data": {
      "text/plain": [
       "78.79"
      ]
     },
     "execution_count": 53,
     "metadata": {},
     "output_type": "execute_result"
    }
   ],
   "source": [
    "floating = float(floating)\n",
    "floating"
   ]
  },
  {
   "cell_type": "code",
   "execution_count": 54,
   "metadata": {},
   "outputs": [
    {
     "data": {
      "text/plain": [
       "float"
      ]
     },
     "execution_count": 54,
     "metadata": {},
     "output_type": "execute_result"
    }
   ],
   "source": [
    "type(floating)"
   ]
  },
  {
   "cell_type": "markdown",
   "metadata": {},
   "source": [
    "//*[@id=\"cTB11\"]/tbody/tr[7]/td"
   ]
  },
  {
   "cell_type": "code",
   "execution_count": 55,
   "metadata": {},
   "outputs": [],
   "source": [
    "#구성종목 기본정보\n",
    "def stock_info(stock_cd):\n",
    "    url_float = 'http://companyinfo.stock.naver.com/v1/company/c1010001.aspx?cmp_cd=' + stock_cd\n",
    "    source = urlopen(url_float).read()\n",
    "    soup = bs4.BeautifulSoup(source, 'lxml')\n",
    "    \n",
    "    tmp = soup.find(id = 'cTB11').find_all('tr')[6].td.text\n",
    "    tmp = tmp.replace('\\r','')\n",
    "    tmp = tmp.replace('\\n','')\n",
    "    tmp = tmp.replace('\\t','')\n",
    "    \n",
    "    tmp = re.split('/',tmp)\n",
    "    \n",
    "    outstanding = tmp[0].replace(',','')\n",
    "    outstanding = outstanding.replace('주','')\n",
    "    outstanding = outstanding.replace(' ','')\n",
    "    outstanding = int(outstanding)\n",
    "    \n",
    "    floating = tmp[1].replace(' ','')\n",
    "    floating = floating.replace('%','')\n",
    "    floating = float(floating)\n",
    "    \n",
    "    name = soup.find(id='pArea').find('div').find('div').find('tr').find('td').find('span').text\n",
    "    \n",
    "    k10_outstanding[stock_cd] = outstanding\n",
    "    k10_floating[stock_cd] = floating\n",
    "    k10_name[stock_cd] = name"
   ]
  },
  {
   "cell_type": "code",
   "execution_count": 56,
   "metadata": {},
   "outputs": [],
   "source": [
    "k10_component = ['005930', '000660', '068270', '207940', '005380', '005490', '051910', '028260', '035420', '012330']"
   ]
  },
  {
   "cell_type": "code",
   "execution_count": 57,
   "metadata": {},
   "outputs": [],
   "source": [
    "k10_outstanding = dict() #딕셔너리 초기화\n",
    "k10_floating = dict()\n",
    "k10_name = dict()\n",
    "\n",
    "for stock_cd in k10_component:    #종목 하나씩 돌리면서 stock info 함수 호출\n",
    "    stock_info(stock_cd)"
   ]
  },
  {
   "cell_type": "code",
   "execution_count": 58,
   "metadata": {},
   "outputs": [
    {
     "data": {
      "text/plain": [
       "{'005930': 5969782550,\n",
       " '000660': 728002365,\n",
       " '068270': 127953489,\n",
       " '207940': 66165000,\n",
       " '005380': 213668187,\n",
       " '005490': 87186835,\n",
       " '051910': 70592343,\n",
       " '028260': 189690043,\n",
       " '035420': 164813395,\n",
       " '012330': 97343863}"
      ]
     },
     "execution_count": 58,
     "metadata": {},
     "output_type": "execute_result"
    }
   ],
   "source": [
    "k10_outstanding     #상장 주식수"
   ]
  },
  {
   "cell_type": "code",
   "execution_count": 59,
   "metadata": {},
   "outputs": [
    {
     "data": {
      "text/plain": [
       "{'005930': 78.79,\n",
       " '000660': 73.89,\n",
       " '068270': 66.22,\n",
       " '207940': 24.75,\n",
       " '005380': 65.77,\n",
       " '005490': 79.6,\n",
       " '051910': 64.28,\n",
       " '028260': 52.08,\n",
       " '035420': 78.77,\n",
       " '012330': 67.12}"
      ]
     },
     "execution_count": 59,
     "metadata": {},
     "output_type": "execute_result"
    }
   ],
   "source": [
    "k10_floating       #유동비율"
   ]
  },
  {
   "cell_type": "code",
   "execution_count": 60,
   "metadata": {},
   "outputs": [],
   "source": [
    "#/html/body/table[1]/tbody/tr[3]/td[1]/span"
   ]
  },
  {
   "cell_type": "code",
   "execution_count": 61,
   "metadata": {},
   "outputs": [],
   "source": [
    "import pandas as pd\n",
    "import datetime as dt"
   ]
  },
  {
   "cell_type": "code",
   "execution_count": 62,
   "metadata": {},
   "outputs": [],
   "source": [
    "def date_format(d):\n",
    "    d = str(d).replace('-','.')\n",
    "    \n",
    "    yyyy = int(d.split('.')[0])\n",
    "    mm = int(d.split('.')[1])\n",
    "    dd = int(d.split('.')[2])\n",
    "    \n",
    "    this_date = dt.date(yyyy,mm,dd)\n",
    "    return this_date"
   ]
  },
  {
   "cell_type": "code",
   "execution_count": 63,
   "metadata": {},
   "outputs": [],
   "source": [
    "def historical_stock_naver(stock_cd, start_date = '', end_date = '', page_n = 1, last_page = 0):\n",
    "    \n",
    "    if start_date:\n",
    "        start_date = date_format(start_date)\n",
    "    else:\n",
    "        start_date = dt.date.today()\n",
    "    \n",
    "    if end_date:\n",
    "        end_date = date_format(end_date)\n",
    "    else:\n",
    "        end_date = dt.date.today()\n",
    "        \n",
    "    naver_stock = 'https://finance.naver.com/item/sise_day.nhn?code=' + stock_cd + '&page=' + str(page_n)\n",
    "    \n",
    "    source = urlopen(naver_stock).read()\n",
    "    source = bs4.BeautifulSoup(source, 'lxml')\n",
    "    \n",
    "    dates = source.find_all('span', class_ = 'tah p10 gray03') #날짜\n",
    "    prices = source.find_all('td', class_ = 'num') #종가\n",
    "    \n",
    "    for n in range(len(dates)):\n",
    "        \n",
    "        if len(dates) > 0:\n",
    "            #날짜처리\n",
    "            this_date = dates[n].text\n",
    "            this_date = date_format(this_date)\n",
    "            \n",
    "            if this_date <= end_date and this_date >= start_date:\n",
    "                #start_date 와 end_date 사이에서 데이터 저장\n",
    "                \n",
    "                this_close = prices[n*6].text\n",
    "                this_close = this_close.replace(',','')\n",
    "                this_close = float(this_close)\n",
    "                \n",
    "                #딕셔너리 저장\n",
    "                historical_prices[this_date] = this_close\n",
    "                \n",
    "            elif this_date < start_date:\n",
    "                return historical_prices\n",
    "            \n",
    "        if last_page == 0:\n",
    "            last_page = source.find_all('table')[1].find_all('td', class_ = 'pgRR').find('a')['href']\n",
    "            last_page = last_page.split('&')[1]\n",
    "            last_page = last_page.split('=')[1]\n",
    "            last_page = float(last_page)\n",
    "            \n",
    "    if page_n < last_page:\n",
    "        page_n = page_n + 1\n",
    "        historical_stock_naver(stock_cd, start_date, end_date, page_n, last_page)\n",
    "        \n",
    "    return historical_prices"
   ]
  },
  {
   "cell_type": "code",
   "execution_count": 64,
   "metadata": {},
   "outputs": [
    {
     "ename": "AttributeError",
     "evalue": "ResultSet object has no attribute 'find'. You're probably treating a list of items like a single item. Did you call find_all() when you meant to call find()?",
     "output_type": "error",
     "traceback": [
      "\u001b[1;31m---------------------------------------------------------------------------\u001b[0m",
      "\u001b[1;31mAttributeError\u001b[0m                            Traceback (most recent call last)",
      "\u001b[1;32m<ipython-input-64-80c948f4296f>\u001b[0m in \u001b[0;36m<module>\u001b[1;34m()\u001b[0m\n\u001b[0;32m      6\u001b[0m     \u001b[0mstart_date\u001b[0m \u001b[1;33m=\u001b[0m \u001b[1;34m'2017-1-1'\u001b[0m\u001b[1;33m\u001b[0m\u001b[0m\n\u001b[0;32m      7\u001b[0m     \u001b[0mend_date\u001b[0m \u001b[1;33m=\u001b[0m \u001b[1;34m'2017-12-31'\u001b[0m\u001b[1;33m\u001b[0m\u001b[0m\n\u001b[1;32m----> 8\u001b[1;33m     \u001b[0mhistorical_stock_naver\u001b[0m\u001b[1;33m(\u001b[0m\u001b[0mstock_cd\u001b[0m\u001b[1;33m,\u001b[0m \u001b[0mstart_date\u001b[0m\u001b[1;33m,\u001b[0m \u001b[0mend_date\u001b[0m\u001b[1;33m)\u001b[0m\u001b[1;33m\u001b[0m\u001b[0m\n\u001b[0m\u001b[0;32m      9\u001b[0m \u001b[1;33m\u001b[0m\u001b[0m\n\u001b[0;32m     10\u001b[0m     \u001b[0mk10_historical_prices\u001b[0m\u001b[1;33m[\u001b[0m\u001b[0mstock_cd\u001b[0m\u001b[1;33m]\u001b[0m \u001b[1;33m=\u001b[0m \u001b[0mhistorical_prices\u001b[0m\u001b[1;33m\u001b[0m\u001b[0m\n",
      "\u001b[1;32m<ipython-input-63-255b337a1570>\u001b[0m in \u001b[0;36mhistorical_stock_naver\u001b[1;34m(stock_cd, start_date, end_date, page_n, last_page)\u001b[0m\n\u001b[0;32m     40\u001b[0m \u001b[1;33m\u001b[0m\u001b[0m\n\u001b[0;32m     41\u001b[0m         \u001b[1;32mif\u001b[0m \u001b[0mlast_page\u001b[0m \u001b[1;33m==\u001b[0m \u001b[1;36m0\u001b[0m\u001b[1;33m:\u001b[0m\u001b[1;33m\u001b[0m\u001b[0m\n\u001b[1;32m---> 42\u001b[1;33m             \u001b[0mlast_page\u001b[0m \u001b[1;33m=\u001b[0m \u001b[0msource\u001b[0m\u001b[1;33m.\u001b[0m\u001b[0mfind_all\u001b[0m\u001b[1;33m(\u001b[0m\u001b[1;34m'table'\u001b[0m\u001b[1;33m)\u001b[0m\u001b[1;33m[\u001b[0m\u001b[1;36m1\u001b[0m\u001b[1;33m]\u001b[0m\u001b[1;33m.\u001b[0m\u001b[0mfind_all\u001b[0m\u001b[1;33m(\u001b[0m\u001b[1;34m'td'\u001b[0m\u001b[1;33m,\u001b[0m \u001b[0mclass_\u001b[0m \u001b[1;33m=\u001b[0m \u001b[1;34m'pgRR'\u001b[0m\u001b[1;33m)\u001b[0m\u001b[1;33m.\u001b[0m\u001b[0mfind\u001b[0m\u001b[1;33m(\u001b[0m\u001b[1;34m'a'\u001b[0m\u001b[1;33m)\u001b[0m\u001b[1;33m[\u001b[0m\u001b[1;34m'href'\u001b[0m\u001b[1;33m]\u001b[0m\u001b[1;33m\u001b[0m\u001b[0m\n\u001b[0m\u001b[0;32m     43\u001b[0m             \u001b[0mlast_page\u001b[0m \u001b[1;33m=\u001b[0m \u001b[0mlast_page\u001b[0m\u001b[1;33m.\u001b[0m\u001b[0msplit\u001b[0m\u001b[1;33m(\u001b[0m\u001b[1;34m'&'\u001b[0m\u001b[1;33m)\u001b[0m\u001b[1;33m[\u001b[0m\u001b[1;36m1\u001b[0m\u001b[1;33m]\u001b[0m\u001b[1;33m\u001b[0m\u001b[0m\n\u001b[0;32m     44\u001b[0m             \u001b[0mlast_page\u001b[0m \u001b[1;33m=\u001b[0m \u001b[0mlast_page\u001b[0m\u001b[1;33m.\u001b[0m\u001b[0msplit\u001b[0m\u001b[1;33m(\u001b[0m\u001b[1;34m'='\u001b[0m\u001b[1;33m)\u001b[0m\u001b[1;33m[\u001b[0m\u001b[1;36m1\u001b[0m\u001b[1;33m]\u001b[0m\u001b[1;33m\u001b[0m\u001b[0m\n",
      "\u001b[1;32mC:\\ProgramData\\Anaconda3\\lib\\site-packages\\bs4\\element.py\u001b[0m in \u001b[0;36m__getattr__\u001b[1;34m(self, key)\u001b[0m\n\u001b[0;32m   1805\u001b[0m     \u001b[1;32mdef\u001b[0m \u001b[0m__getattr__\u001b[0m\u001b[1;33m(\u001b[0m\u001b[0mself\u001b[0m\u001b[1;33m,\u001b[0m \u001b[0mkey\u001b[0m\u001b[1;33m)\u001b[0m\u001b[1;33m:\u001b[0m\u001b[1;33m\u001b[0m\u001b[0m\n\u001b[0;32m   1806\u001b[0m         raise AttributeError(\n\u001b[1;32m-> 1807\u001b[1;33m             \u001b[1;34m\"ResultSet object has no attribute '%s'. You're probably treating a list of items like a single item. Did you call find_all() when you meant to call find()?\"\u001b[0m \u001b[1;33m%\u001b[0m \u001b[0mkey\u001b[0m\u001b[1;33m\u001b[0m\u001b[0m\n\u001b[0m\u001b[0;32m   1808\u001b[0m         )\n",
      "\u001b[1;31mAttributeError\u001b[0m: ResultSet object has no attribute 'find'. You're probably treating a list of items like a single item. Did you call find_all() when you meant to call find()?"
     ]
    }
   ],
   "source": [
    "k10_historical_prices = dict()\n",
    "\n",
    "for stock_cd in k10_component:\n",
    "    \n",
    "    historical_prices = dict()\n",
    "    start_date = '2017-1-1'\n",
    "    end_date = '2017-12-31'\n",
    "    historical_stock_naver(stock_cd, start_date, end_date)\n",
    "    \n",
    "    k10_historical_prices[stock_cd] = historical_prices"
   ]
  },
  {
   "cell_type": "code",
   "execution_count": null,
   "metadata": {},
   "outputs": [],
   "source": []
  }
 ],
 "metadata": {
  "kernelspec": {
   "display_name": "Python 3",
   "language": "python",
   "name": "python3"
  },
  "language_info": {
   "codemirror_mode": {
    "name": "ipython",
    "version": 3
   },
   "file_extension": ".py",
   "mimetype": "text/x-python",
   "name": "python",
   "nbconvert_exporter": "python",
   "pygments_lexer": "ipython3",
   "version": "3.6.5"
  }
 },
 "nbformat": 4,
 "nbformat_minor": 2
}
