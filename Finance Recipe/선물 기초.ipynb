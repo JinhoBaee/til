{
 "cells": [
  {
   "cell_type": "code",
   "execution_count": 4,
   "metadata": {},
   "outputs": [],
   "source": [
    "import pandas as pd"
   ]
  },
  {
   "cell_type": "code",
   "execution_count": 5,
   "metadata": {},
   "outputs": [],
   "source": [
    "import numpy as np"
   ]
  },
  {
   "cell_type": "code",
   "execution_count": 6,
   "metadata": {},
   "outputs": [],
   "source": [
    "df = pd.read_excel('09.2 KOSPI200 F 201712.xlsx', 'Sheet1', index_col = '일자')"
   ]
  },
  {
   "cell_type": "code",
   "execution_count": 8,
   "metadata": {},
   "outputs": [
    {
     "data": {
      "text/html": [
       "<div>\n",
       "<style scoped>\n",
       "    .dataframe tbody tr th:only-of-type {\n",
       "        vertical-align: middle;\n",
       "    }\n",
       "\n",
       "    .dataframe tbody tr th {\n",
       "        vertical-align: top;\n",
       "    }\n",
       "\n",
       "    .dataframe thead th {\n",
       "        text-align: right;\n",
       "    }\n",
       "</style>\n",
       "<table border=\"1\" class=\"dataframe\">\n",
       "  <thead>\n",
       "    <tr style=\"text-align: right;\">\n",
       "      <th></th>\n",
       "      <th>선물가격</th>\n",
       "      <th>지수</th>\n",
       "    </tr>\n",
       "    <tr>\n",
       "      <th>일자</th>\n",
       "      <th></th>\n",
       "      <th></th>\n",
       "    </tr>\n",
       "  </thead>\n",
       "  <tbody>\n",
       "    <tr>\n",
       "      <th>2017/09/01</th>\n",
       "      <td>308.40</td>\n",
       "      <td>307.78</td>\n",
       "    </tr>\n",
       "    <tr>\n",
       "      <th>2017/09/04</th>\n",
       "      <td>305.60</td>\n",
       "      <td>304.19</td>\n",
       "    </tr>\n",
       "    <tr>\n",
       "      <th>2017/09/05</th>\n",
       "      <td>304.85</td>\n",
       "      <td>304.06</td>\n",
       "    </tr>\n",
       "    <tr>\n",
       "      <th>2017/09/06</th>\n",
       "      <td>304.30</td>\n",
       "      <td>303.18</td>\n",
       "    </tr>\n",
       "    <tr>\n",
       "      <th>2017/09/07</th>\n",
       "      <td>308.10</td>\n",
       "      <td>306.97</td>\n",
       "    </tr>\n",
       "  </tbody>\n",
       "</table>\n",
       "</div>"
      ],
      "text/plain": [
       "              선물가격      지수\n",
       "일자                        \n",
       "2017/09/01  308.40  307.78\n",
       "2017/09/04  305.60  304.19\n",
       "2017/09/05  304.85  304.06\n",
       "2017/09/06  304.30  303.18\n",
       "2017/09/07  308.10  306.97"
      ]
     },
     "execution_count": 8,
     "metadata": {},
     "output_type": "execute_result"
    }
   ],
   "source": [
    "df.head()"
   ]
  },
  {
   "cell_type": "code",
   "execution_count": 9,
   "metadata": {},
   "outputs": [
    {
     "data": {
      "text/plain": [
       "pandas.core.indexes.base.Index"
      ]
     },
     "execution_count": 9,
     "metadata": {},
     "output_type": "execute_result"
    }
   ],
   "source": [
    "type(df.index) #문자열"
   ]
  },
  {
   "cell_type": "code",
   "execution_count": 11,
   "metadata": {},
   "outputs": [],
   "source": [
    "df.index = pd.to_datetime(df.index)"
   ]
  },
  {
   "cell_type": "code",
   "execution_count": 13,
   "metadata": {},
   "outputs": [
    {
     "data": {
      "text/plain": [
       "pandas.core.indexes.datetimes.DatetimeIndex"
      ]
     },
     "execution_count": 13,
     "metadata": {},
     "output_type": "execute_result"
    }
   ],
   "source": [
    "type(df.index) #날짜형식"
   ]
  },
  {
   "cell_type": "code",
   "execution_count": 14,
   "metadata": {},
   "outputs": [],
   "source": [
    "def future_price (S, r, d, T, t0):     #기초자산, 이자율, 배당률, 최종거래일, 기준일\n",
    "    t = np.busday_count(t0, T) / 252\n",
    "    F = S * np.exp((r-d)*t)\n",
    "    return F"
   ]
  },
  {
   "cell_type": "code",
   "execution_count": 18,
   "metadata": {},
   "outputs": [],
   "source": [
    "T = pd.to_datetime('2017-12-14') # 최종거래일\n",
    "r = 0.0225\n",
    "d = 0.015\n",
    "for n in (df.index):\n",
    "    t0 = n\n",
    "    S = df.loc[n, '지수']\n",
    "    F = future_price(S, r, d, T, t0)\n",
    "    f = '{:,.2f}'.format(F)     #소숫점 아래 두자리까지, 천단위로 쉼표 추가\n",
    "    df.loc[n, '이론가1'] = f"
   ]
  },
  {
   "cell_type": "code",
   "execution_count": 19,
   "metadata": {},
   "outputs": [],
   "source": [
    "def S_future_price(S, r, d, T, t0):\n",
    "    t = (T-t0).days / 365\n",
    "    F = S * (1 + (r-d) * t)\n",
    "    return F"
   ]
  },
  {
   "cell_type": "code",
   "execution_count": 20,
   "metadata": {},
   "outputs": [],
   "source": [
    "T = pd.to_datetime('2017-12-14')\n",
    "r = 0.0225\n",
    "d = 0.015\n",
    "for n in (df.index):\n",
    "    t0 = n\n",
    "    S = df.loc[n, '지수']\n",
    "    F = S_future_price(S, r, d, T, t0)\n",
    "    f = '{:,.2f}'.format(F)\n",
    "    df.loc[n, '이론가2'] = f"
   ]
  },
  {
   "cell_type": "code",
   "execution_count": 23,
   "metadata": {},
   "outputs": [
    {
     "data": {
      "text/html": [
       "<div>\n",
       "<style scoped>\n",
       "    .dataframe tbody tr th:only-of-type {\n",
       "        vertical-align: middle;\n",
       "    }\n",
       "\n",
       "    .dataframe tbody tr th {\n",
       "        vertical-align: top;\n",
       "    }\n",
       "\n",
       "    .dataframe thead th {\n",
       "        text-align: right;\n",
       "    }\n",
       "</style>\n",
       "<table border=\"1\" class=\"dataframe\">\n",
       "  <thead>\n",
       "    <tr style=\"text-align: right;\">\n",
       "      <th></th>\n",
       "      <th>선물가격</th>\n",
       "      <th>지수</th>\n",
       "      <th>이론가1</th>\n",
       "      <th>이론가2</th>\n",
       "    </tr>\n",
       "    <tr>\n",
       "      <th>일자</th>\n",
       "      <th></th>\n",
       "      <th></th>\n",
       "      <th></th>\n",
       "      <th></th>\n",
       "    </tr>\n",
       "  </thead>\n",
       "  <tbody>\n",
       "    <tr>\n",
       "      <th>2017-09-01</th>\n",
       "      <td>308.40</td>\n",
       "      <td>307.78</td>\n",
       "      <td>308.46</td>\n",
       "      <td>308.44</td>\n",
       "    </tr>\n",
       "    <tr>\n",
       "      <th>2017-09-04</th>\n",
       "      <td>305.60</td>\n",
       "      <td>304.19</td>\n",
       "      <td>304.85</td>\n",
       "      <td>304.82</td>\n",
       "    </tr>\n",
       "    <tr>\n",
       "      <th>2017-09-05</th>\n",
       "      <td>304.85</td>\n",
       "      <td>304.06</td>\n",
       "      <td>304.71</td>\n",
       "      <td>304.68</td>\n",
       "    </tr>\n",
       "    <tr>\n",
       "      <th>2017-09-06</th>\n",
       "      <td>304.30</td>\n",
       "      <td>303.18</td>\n",
       "      <td>303.82</td>\n",
       "      <td>303.80</td>\n",
       "    </tr>\n",
       "    <tr>\n",
       "      <th>2017-09-07</th>\n",
       "      <td>308.10</td>\n",
       "      <td>306.97</td>\n",
       "      <td>307.61</td>\n",
       "      <td>307.59</td>\n",
       "    </tr>\n",
       "  </tbody>\n",
       "</table>\n",
       "</div>"
      ],
      "text/plain": [
       "              선물가격      지수    이론가1    이론가2\n",
       "일자                                        \n",
       "2017-09-01  308.40  307.78  308.46  308.44\n",
       "2017-09-04  305.60  304.19  304.85  304.82\n",
       "2017-09-05  304.85  304.06  304.71  304.68\n",
       "2017-09-06  304.30  303.18  303.82  303.80\n",
       "2017-09-07  308.10  306.97  307.61  307.59"
      ]
     },
     "execution_count": 23,
     "metadata": {},
     "output_type": "execute_result"
    }
   ],
   "source": [
    "df.head() #연속이자율, 단순이자율"
   ]
  },
  {
   "cell_type": "code",
   "execution_count": null,
   "metadata": {},
   "outputs": [],
   "source": []
  }
 ],
 "metadata": {
  "kernelspec": {
   "display_name": "Python 3",
   "language": "python",
   "name": "python3"
  },
  "language_info": {
   "codemirror_mode": {
    "name": "ipython",
    "version": 3
   },
   "file_extension": ".py",
   "mimetype": "text/x-python",
   "name": "python",
   "nbconvert_exporter": "python",
   "pygments_lexer": "ipython3",
   "version": "3.6.5"
  }
 },
 "nbformat": 4,
 "nbformat_minor": 2
}
